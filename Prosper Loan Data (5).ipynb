{
 "cells": [
  {
   "cell_type": "markdown",
   "id": "090a9775-143e-44ac-93b6-7ece77ddceec",
   "metadata": {
    "tags": []
   },
   "source": [
    "# Prosper Loan Dataset"
   ]
  },
  {
   "cell_type": "markdown",
   "id": "e16194b7-7d34-4a52-80c2-30592058cf8e",
   "metadata": {},
   "source": [
    "## Table of Content\n",
    "\n",
    "- Introduction\n",
    "- Objectives\n",
    "- Project Phase: Phase 1 - Exploratory Data Analysis\n",
    "- Dataset\n",
    "- Project Questions\n",
    "- Data Cleansing\n",
    "- Univariate\n",
    "- Bivariate\n",
    "- Multivariate Analysis\n",
    "- Conclusions\n",
    "- Reference\n"
   ]
  },
  {
   "cell_type": "markdown",
   "id": "700726fd-cf31-4c09-8a6d-7693245b7e39",
   "metadata": {},
   "source": [
    "## Introduction"
   ]
  },
  {
   "cell_type": "markdown",
   "id": "13ce22e2-d6ca-48b5-8995-fd55b7db94d2",
   "metadata": {},
   "source": [
    "This project is a Data Visualization project with Python, which is an important skill that is used in many parts of the data analysis process.This project has two parts that demonstrate the importance and value of data visualization techniques in the data analysis process, which are:\n",
    "\n",
    "- Part I: Exploratory data visualization, that involved the use of Python visualization libraries to systematically explore a selected dataset, starting from plots of single variables and building up to plots of multiple variables. Exploratory data visualization generally occurs during and after data wrangling process, and it is the main method I deployed in understanding the patterns and relationships present in the data. This understanding helped me approach the statistical analyses and helped in building conclusions and findings. This process also illuminated additional data cleaning tasks to be performed.\n",
    "\n",
    "- Part II: Explanatory data visualization, that involved the production of a short presentation that illustrates interesting properties, trends, and relationships that is discovered in any given dataset. The primary method of conveying my findings was through transforming the exploratory visualizations from the first part into polished, explanatory visualizations. Explanatory data visualization techniques are used after generating key findings, and are used to help communicate results to others."
   ]
  },
  {
   "cell_type": "markdown",
   "id": "b2f50923-d1d6-4208-befa-26e994e3b9a3",
   "metadata": {},
   "source": [
    "## Objectives\n",
    "\n",
    "At the end of this project, I should able to:\n",
    "\n",
    "- Supplement statistics with visualizations to build understanding of data.\n",
    "- Choose appropriate plots, limits, transformations, and aesthetics to explore a dataset, allowing my audience to understand distributions of variables and relationships between features.\n",
    "- Use design principles to create effective visualizations for communicating findings to an audience."
   ]
  },
  {
   "cell_type": "markdown",
   "id": "cd84703c-81b0-40e9-95c6-4d31f056fe08",
   "metadata": {
    "tags": []
   },
   "source": [
    "## Project Phase\n",
    "\n",
    "## Phase 1 - Exploratory Data Analysis\n",
    "\n",
    "In this first phase, I conducted an exploratory data analysis on a dataset of my choice. Use Python data science and data visualization libraries to explore the dataset’s variables and understand the data’s structure, oddities, patterns, and relationships.\n",
    "\n",
    "The analysis in this phase is structured, going from simple univariate relationships to multivariate relationships, but it does not need to be cleaned or perfected. There is no single answer that needs to come out of a given dataset. This phase of the project is an opportunity to ask questions about the data and make my discoveries. It’s essential to keep in mind that sometimes exploration can lead to dead ends and that it can take multiple steps to dig down to what is genuinely searched for."
   ]
  },
  {
   "cell_type": "markdown",
   "id": "54eb4928-57c6-458e-8157-4eb47cb6634d",
   "metadata": {},
   "source": [
    "The main features of interest are the borrower's interest rate (BorrowerRate) and the current loan status (LoanStatus)."
   ]
  },
  {
   "cell_type": "markdown",
   "id": "92474a52-c8cf-48cb-a212-d6cd4ba5c986",
   "metadata": {
    "tags": []
   },
   "source": [
    "## Project Questions\n",
    "\n",
    "This phase seek to answer the following questions below:\n",
    "\n",
    "- What factors affect a loan’s outcome status?\n",
    "\n",
    "\n",
    "- What affects the borrower’s APR or interest rate?\n",
    "\n",
    "\n",
    "- Are there differences between loans depending on how large the original loan amount was?"
   ]
  },
  {
   "cell_type": "markdown",
   "id": "2aa5b1b7-a552-4e79-b3c7-4a04b0b7b728",
   "metadata": {},
   "source": [
    "## Importing the libraries"
   ]
  },
  {
   "cell_type": "code",
   "execution_count": 32,
   "id": "b178344e-89a7-4499-9a82-ff2001a2c91b",
   "metadata": {},
   "outputs": [],
   "source": [
    "import pandas as pd\n",
    "import numpy as np\n",
    "import matplotlib.pyplot as plt\n",
    "import seaborn as sb\n",
    "%matplotlib inline"
   ]
  },
  {
   "cell_type": "markdown",
   "id": "2c9ccccb-19cf-4240-89c5-8dcf6afc6207",
   "metadata": {
    "tags": []
   },
   "source": [
    "## Datasets\n",
    "\n",
    "The Dataset for this is the Prosper Loan Data ([Download here](https://docs.google.com/document/d/e/2PACX-1vQmkX4iOT6Rcrin42vslquX2_wQCjIa_hbwD0xmxrERPSOJYDtpNc_3wwK_p9_KpOsfA6QVyEHdxxq7/pub \"Project 3: Udacity Project - Prosper Loan Data\")). This data set contains 113,937 loans with 81 variables on each loan, including loan amount, borrower rate (or interest rate), current loan status, borrower income, and many others. About 10 -15 variables were explored for this project."
   ]
  },
  {
   "cell_type": "code",
   "execution_count": 33,
   "id": "ee0a0805-d95d-4482-bedc-f68e5ca27e6a",
   "metadata": {},
   "outputs": [
    {
     "data": {
      "text/html": [
       "<div>\n",
       "<style scoped>\n",
       "    .dataframe tbody tr th:only-of-type {\n",
       "        vertical-align: middle;\n",
       "    }\n",
       "\n",
       "    .dataframe tbody tr th {\n",
       "        vertical-align: top;\n",
       "    }\n",
       "\n",
       "    .dataframe thead th {\n",
       "        text-align: right;\n",
       "    }\n",
       "</style>\n",
       "<table border=\"1\" class=\"dataframe\">\n",
       "  <thead>\n",
       "    <tr style=\"text-align: right;\">\n",
       "      <th></th>\n",
       "      <th>ListingKey</th>\n",
       "      <th>ListingNumber</th>\n",
       "      <th>ListingCreationDate</th>\n",
       "      <th>CreditGrade</th>\n",
       "      <th>Term</th>\n",
       "      <th>LoanStatus</th>\n",
       "      <th>ClosedDate</th>\n",
       "      <th>BorrowerAPR</th>\n",
       "      <th>BorrowerRate</th>\n",
       "      <th>LenderYield</th>\n",
       "      <th>...</th>\n",
       "      <th>LP_ServiceFees</th>\n",
       "      <th>LP_CollectionFees</th>\n",
       "      <th>LP_GrossPrincipalLoss</th>\n",
       "      <th>LP_NetPrincipalLoss</th>\n",
       "      <th>LP_NonPrincipalRecoverypayments</th>\n",
       "      <th>PercentFunded</th>\n",
       "      <th>Recommendations</th>\n",
       "      <th>InvestmentFromFriendsCount</th>\n",
       "      <th>InvestmentFromFriendsAmount</th>\n",
       "      <th>Investors</th>\n",
       "    </tr>\n",
       "  </thead>\n",
       "  <tbody>\n",
       "    <tr>\n",
       "      <th>0</th>\n",
       "      <td>1021339766868145413AB3B</td>\n",
       "      <td>193129</td>\n",
       "      <td>2007-08-26 19:09:29.263000000</td>\n",
       "      <td>C</td>\n",
       "      <td>36</td>\n",
       "      <td>Completed</td>\n",
       "      <td>2009-08-14 00:00:00</td>\n",
       "      <td>0.16516</td>\n",
       "      <td>0.1580</td>\n",
       "      <td>0.1380</td>\n",
       "      <td>...</td>\n",
       "      <td>-133.18</td>\n",
       "      <td>0.0</td>\n",
       "      <td>0.0</td>\n",
       "      <td>0.0</td>\n",
       "      <td>0.0</td>\n",
       "      <td>1.0</td>\n",
       "      <td>0</td>\n",
       "      <td>0</td>\n",
       "      <td>0.0</td>\n",
       "      <td>258</td>\n",
       "    </tr>\n",
       "    <tr>\n",
       "      <th>1</th>\n",
       "      <td>10273602499503308B223C1</td>\n",
       "      <td>1209647</td>\n",
       "      <td>2014-02-27 08:28:07.900000000</td>\n",
       "      <td>NaN</td>\n",
       "      <td>36</td>\n",
       "      <td>Current</td>\n",
       "      <td>NaN</td>\n",
       "      <td>0.12016</td>\n",
       "      <td>0.0920</td>\n",
       "      <td>0.0820</td>\n",
       "      <td>...</td>\n",
       "      <td>0.00</td>\n",
       "      <td>0.0</td>\n",
       "      <td>0.0</td>\n",
       "      <td>0.0</td>\n",
       "      <td>0.0</td>\n",
       "      <td>1.0</td>\n",
       "      <td>0</td>\n",
       "      <td>0</td>\n",
       "      <td>0.0</td>\n",
       "      <td>1</td>\n",
       "    </tr>\n",
       "    <tr>\n",
       "      <th>2</th>\n",
       "      <td>0EE9337825851032864889A</td>\n",
       "      <td>81716</td>\n",
       "      <td>2007-01-05 15:00:47.090000000</td>\n",
       "      <td>HR</td>\n",
       "      <td>36</td>\n",
       "      <td>Completed</td>\n",
       "      <td>2009-12-17 00:00:00</td>\n",
       "      <td>0.28269</td>\n",
       "      <td>0.2750</td>\n",
       "      <td>0.2400</td>\n",
       "      <td>...</td>\n",
       "      <td>-24.20</td>\n",
       "      <td>0.0</td>\n",
       "      <td>0.0</td>\n",
       "      <td>0.0</td>\n",
       "      <td>0.0</td>\n",
       "      <td>1.0</td>\n",
       "      <td>0</td>\n",
       "      <td>0</td>\n",
       "      <td>0.0</td>\n",
       "      <td>41</td>\n",
       "    </tr>\n",
       "    <tr>\n",
       "      <th>3</th>\n",
       "      <td>0EF5356002482715299901A</td>\n",
       "      <td>658116</td>\n",
       "      <td>2012-10-22 11:02:35.010000000</td>\n",
       "      <td>NaN</td>\n",
       "      <td>36</td>\n",
       "      <td>Current</td>\n",
       "      <td>NaN</td>\n",
       "      <td>0.12528</td>\n",
       "      <td>0.0974</td>\n",
       "      <td>0.0874</td>\n",
       "      <td>...</td>\n",
       "      <td>-108.01</td>\n",
       "      <td>0.0</td>\n",
       "      <td>0.0</td>\n",
       "      <td>0.0</td>\n",
       "      <td>0.0</td>\n",
       "      <td>1.0</td>\n",
       "      <td>0</td>\n",
       "      <td>0</td>\n",
       "      <td>0.0</td>\n",
       "      <td>158</td>\n",
       "    </tr>\n",
       "    <tr>\n",
       "      <th>4</th>\n",
       "      <td>0F023589499656230C5E3E2</td>\n",
       "      <td>909464</td>\n",
       "      <td>2013-09-14 18:38:39.097000000</td>\n",
       "      <td>NaN</td>\n",
       "      <td>36</td>\n",
       "      <td>Current</td>\n",
       "      <td>NaN</td>\n",
       "      <td>0.24614</td>\n",
       "      <td>0.2085</td>\n",
       "      <td>0.1985</td>\n",
       "      <td>...</td>\n",
       "      <td>-60.27</td>\n",
       "      <td>0.0</td>\n",
       "      <td>0.0</td>\n",
       "      <td>0.0</td>\n",
       "      <td>0.0</td>\n",
       "      <td>1.0</td>\n",
       "      <td>0</td>\n",
       "      <td>0</td>\n",
       "      <td>0.0</td>\n",
       "      <td>20</td>\n",
       "    </tr>\n",
       "  </tbody>\n",
       "</table>\n",
       "<p>5 rows × 81 columns</p>\n",
       "</div>"
      ],
      "text/plain": [
       "                ListingKey  ListingNumber            ListingCreationDate  \\\n",
       "0  1021339766868145413AB3B         193129  2007-08-26 19:09:29.263000000   \n",
       "1  10273602499503308B223C1        1209647  2014-02-27 08:28:07.900000000   \n",
       "2  0EE9337825851032864889A          81716  2007-01-05 15:00:47.090000000   \n",
       "3  0EF5356002482715299901A         658116  2012-10-22 11:02:35.010000000   \n",
       "4  0F023589499656230C5E3E2         909464  2013-09-14 18:38:39.097000000   \n",
       "\n",
       "  CreditGrade  Term LoanStatus           ClosedDate  BorrowerAPR  \\\n",
       "0           C    36  Completed  2009-08-14 00:00:00      0.16516   \n",
       "1         NaN    36    Current                  NaN      0.12016   \n",
       "2          HR    36  Completed  2009-12-17 00:00:00      0.28269   \n",
       "3         NaN    36    Current                  NaN      0.12528   \n",
       "4         NaN    36    Current                  NaN      0.24614   \n",
       "\n",
       "   BorrowerRate  LenderYield  ...  LP_ServiceFees  LP_CollectionFees  \\\n",
       "0        0.1580       0.1380  ...         -133.18                0.0   \n",
       "1        0.0920       0.0820  ...            0.00                0.0   \n",
       "2        0.2750       0.2400  ...          -24.20                0.0   \n",
       "3        0.0974       0.0874  ...         -108.01                0.0   \n",
       "4        0.2085       0.1985  ...          -60.27                0.0   \n",
       "\n",
       "   LP_GrossPrincipalLoss  LP_NetPrincipalLoss LP_NonPrincipalRecoverypayments  \\\n",
       "0                    0.0                  0.0                             0.0   \n",
       "1                    0.0                  0.0                             0.0   \n",
       "2                    0.0                  0.0                             0.0   \n",
       "3                    0.0                  0.0                             0.0   \n",
       "4                    0.0                  0.0                             0.0   \n",
       "\n",
       "   PercentFunded  Recommendations InvestmentFromFriendsCount  \\\n",
       "0            1.0                0                          0   \n",
       "1            1.0                0                          0   \n",
       "2            1.0                0                          0   \n",
       "3            1.0                0                          0   \n",
       "4            1.0                0                          0   \n",
       "\n",
       "  InvestmentFromFriendsAmount Investors  \n",
       "0                         0.0       258  \n",
       "1                         0.0         1  \n",
       "2                         0.0        41  \n",
       "3                         0.0       158  \n",
       "4                         0.0        20  \n",
       "\n",
       "[5 rows x 81 columns]"
      ]
     },
     "execution_count": 33,
     "metadata": {},
     "output_type": "execute_result"
    }
   ],
   "source": [
    "# Importing Dataset\n",
    "\n",
    "df = pd.read_csv('prosperLoanData.csv')\n",
    "df.head()"
   ]
  },
  {
   "cell_type": "code",
   "execution_count": 34,
   "id": "15b83008-1439-4054-8368-a8c91cad3157",
   "metadata": {},
   "outputs": [
    {
     "data": {
      "text/plain": [
       "(113937, 81)"
      ]
     },
     "execution_count": 34,
     "metadata": {},
     "output_type": "execute_result"
    }
   ],
   "source": [
    "# The dataset has 113937 rows and 81 columns\n",
    "\n",
    "df.shape"
   ]
  },
  {
   "cell_type": "code",
   "execution_count": 35,
   "id": "bc038fe6-777a-4bc4-afb7-65f676f1c4c1",
   "metadata": {},
   "outputs": [
    {
     "data": {
      "text/plain": [
       "Index(['ListingKey', 'ListingNumber', 'ListingCreationDate', 'CreditGrade',\n",
       "       'Term', 'LoanStatus', 'ClosedDate', 'BorrowerAPR', 'BorrowerRate',\n",
       "       'LenderYield', 'EstimatedEffectiveYield', 'EstimatedLoss',\n",
       "       'EstimatedReturn', 'ProsperRating (numeric)', 'ProsperRating (Alpha)',\n",
       "       'ProsperScore', 'ListingCategory (numeric)', 'BorrowerState',\n",
       "       'Occupation', 'EmploymentStatus', 'EmploymentStatusDuration',\n",
       "       'IsBorrowerHomeowner', 'CurrentlyInGroup', 'GroupKey',\n",
       "       'DateCreditPulled', 'CreditScoreRangeLower', 'CreditScoreRangeUpper',\n",
       "       'FirstRecordedCreditLine', 'CurrentCreditLines', 'OpenCreditLines',\n",
       "       'TotalCreditLinespast7years', 'OpenRevolvingAccounts',\n",
       "       'OpenRevolvingMonthlyPayment', 'InquiriesLast6Months', 'TotalInquiries',\n",
       "       'CurrentDelinquencies', 'AmountDelinquent', 'DelinquenciesLast7Years',\n",
       "       'PublicRecordsLast10Years', 'PublicRecordsLast12Months',\n",
       "       'RevolvingCreditBalance', 'BankcardUtilization',\n",
       "       'AvailableBankcardCredit', 'TotalTrades',\n",
       "       'TradesNeverDelinquent (percentage)', 'TradesOpenedLast6Months',\n",
       "       'DebtToIncomeRatio', 'IncomeRange', 'IncomeVerifiable',\n",
       "       'StatedMonthlyIncome', 'LoanKey', 'TotalProsperLoans',\n",
       "       'TotalProsperPaymentsBilled', 'OnTimeProsperPayments',\n",
       "       'ProsperPaymentsLessThanOneMonthLate',\n",
       "       'ProsperPaymentsOneMonthPlusLate', 'ProsperPrincipalBorrowed',\n",
       "       'ProsperPrincipalOutstanding', 'ScorexChangeAtTimeOfListing',\n",
       "       'LoanCurrentDaysDelinquent', 'LoanFirstDefaultedCycleNumber',\n",
       "       'LoanMonthsSinceOrigination', 'LoanNumber', 'LoanOriginalAmount',\n",
       "       'LoanOriginationDate', 'LoanOriginationQuarter', 'MemberKey',\n",
       "       'MonthlyLoanPayment', 'LP_CustomerPayments',\n",
       "       'LP_CustomerPrincipalPayments', 'LP_InterestandFees', 'LP_ServiceFees',\n",
       "       'LP_CollectionFees', 'LP_GrossPrincipalLoss', 'LP_NetPrincipalLoss',\n",
       "       'LP_NonPrincipalRecoverypayments', 'PercentFunded', 'Recommendations',\n",
       "       'InvestmentFromFriendsCount', 'InvestmentFromFriendsAmount',\n",
       "       'Investors'],\n",
       "      dtype='object')"
      ]
     },
     "execution_count": 35,
     "metadata": {},
     "output_type": "execute_result"
    }
   ],
   "source": [
    "# Here we have all the columns listed\n",
    "\n",
    "df.columns"
   ]
  },
  {
   "cell_type": "markdown",
   "id": "43751429-b3c0-4d90-aefe-93f49d8626ad",
   "metadata": {},
   "source": [
    "### Prosper Loan Data - Variable Definitions\n",
    "\n",
    "|Variable| |Description|\n",
    "|--------| |-----------|\n",
    "|ListingKey| |Unique key for each listing, same value as the 'key' used in the listing object in the API|\n",
    "|ListingNumber| |The number that uniquely identifies the listing to the public as displayed on the website|\n",
    "|ListingCreationDate| |The date the listing was created|\n",
    "|CreditGrade| |The Credit rating that was assigned at the time the listing went live. Applicable for listings pre-2009 period and will only be populated for those listings|\n",
    "|Term| |The length of the loan expressed in months|\n",
    "|LoanStatus| |The current status of the loan: Cancelled,  Chargedoff, Completed, Current, Defaulted, FinalPaymentInProgress, PastDue. The PastDue status will be accompanied by a delinquency bucket|\n",
    "|ClosedDate| |Closed date is applicable for Cancelled, Completed, Chargedoff and Defaulted loan statuses|\n",
    "|BorrowerAPR| |The Borrower's Annual Percentage Rate (APR) for the loan|\n",
    "|BorrowerRate| |The Borrower's interest rate for this loan|\n",
    "|LenderYield| |The Lender yield on the loan. Lender yield is equal to the interest rate on the loan less the servicing fee|\n",
    "|EstimatedEffectiveYield| |Effective yield is equal to the borrower interest rate (i) minus the servicing fee rate, (ii) minus estimated uncollected interest on charge-offs, (iii) plus estimated collected late fees.  Applicable for loans originated after July 2009|\n",
    "|EstimatedLoss| |Estimated loss is the estimated principal loss on charge-offs. Applicable for loans originated after July 2009.|\n",
    "|EstimatedReturn| |The estimated return assigned to the listing at the time it was created. Estimated return is the difference between the Estimated Effective Yield and the Estimated Loss Rate. Applicable for loans originated after July 2009|\n",
    "|ProsperRating (numeric)| |The  Prosper Rating assigned at the time the listing was created: 0 - N/A, 1 - HR, 2 - E, 3 - D, 4 - C, 5 - B, 6 - A, 7 - AA.  Applicable for loans originated after July 2009|\n",
    "|ProsperRating (Alpha)| |The Prosper Rating assigned at the time the listing was created between AA - HR.  Applicable for loans originated after July 2009|\n",
    "|ProsperScore| |A custom risk score built using historical Prosper data. The score ranges from 1-10, with 10 being the best, or lowest risk score.  Applicable for loans originated after July 2009|\n",
    "|ListingCategory| |The category of the listing that the borrower selected when posting their listing: 0 - Not Available, 1 - Debt Consolidation, 2 - Home Improvement, 3 - Business, 4 - Personal Loan, 5 - Student Use, 6 - Auto, 7- Other, 8 - Baby&Adoption, 9 - Boat, 10 - Cosmetic Procedure, 11 - Engagement Ring, 12 - Green Loans, 13 - Household Expenses, 14 - Large Purchases, 15 - Medical/Dental, 16 - Motorcycle, 17 - RV, 18 - Taxes, 19 - Vacation, 20 - Wedding Loan|\n",
    "|BorrowerState| |The two letter abbreviation of the state of the address of the borrower at the time the Listing was created|\n",
    "|Occupation| |The Occupation selected by the Borrower at the time they created the listing|\n",
    "|EmploymentStatus| |The employment status of the borrower at the time they posted the listing|\n",
    "|EmploymentStatusDuration| |The length in months of the employment status at the time the listing was created|\n",
    "|IsBorrowerHomeowner| |A Borrower will be classified as a homowner if they have a mortgage on their credit profile or provide documentation confirming they are a homeowner.|\n",
    "|CurrentlyInGroup| |Specifies whether or not the Borrower was in a group at the time the listing was created|\n",
    "|GroupKey| |The Key of the group in which the Borrower is a member of. Value will be null if the borrower does not have a group affiliation|\n",
    "|DateCreditPulled| |The date the credit profile was pulled|\n",
    "|CreditScoreRangeLower| |The lower value representing the range of the borrower's credit score as provided by a consumer credit rating agency|\n",
    "|CreditScoreRangeUpper| |The upper value representing the range of the borrower's credit score as provided by a consumer credit rating agency|\n",
    "|FirstRecordedCreditLine| |The date the first credit line was opened|\n",
    "|CurrentCreditLines| |Number of current credit lines at the time the credit profile was pulled|\n",
    "|OpenCreditLines| |Number of open credit lines at the time the credit profile was pulled|\n",
    "|TotalCreditLinespast7years| |Number of credit lines in the past seven years at the time the credit profile was pulled|\n",
    "|OpenRevolvingAccounts| |Number of open revolving accounts at the time the credit profile was pulled|\n",
    "|OpenRevolvingMonthlyPayment| |Monthly payment on revolving accounts at the time the credit profile was pulled|\n",
    "|InquiriesLast6Months| |Number of inquiries in the past six months at the time the credit profile was pulled|\n",
    "|TotalInquiries| |Total number of inquiries at the time the credit profile was pulled|\n",
    "|CurrentDelinquencies| |Number of accounts delinquent at the time the credit profile was pulled|\n",
    "|AmountDelinquent| |Dollars delinquent at the time the credit profile was pulled|\n",
    "|DelinquenciesLast7Years| |Number of delinquencies in the past 7 years at the time the credit profile was pulled|\n",
    "|PublicRecordsLast10Years| |Number of public records in the past 10 years at the time the credit profile was pulled|\n",
    "|PublicRecordsLast12Months| |Number of public records in the past 12 months at the time the credit profile was pulled|\n",
    "|RevolvingCreditBalance| |Dollars of revolving credit at the time the credit profile was pulled|\n",
    "|BankcardUtilization| |The percentage of available revolving credit that is utilized at the time the credit profile was pulled|\n",
    "|AvailableBankcardCredit| |The total available credit via bank card at the time the credit profile was pulled|\n",
    "|TotalTrades| |Number of trade lines ever opened at the time the credit profile was pulled|\n",
    "|TradesNeverDelinquent| |Number of trades that have never been delinquent at the time the credit profile was pulled|\n",
    "|TradesOpenedLast6Months| |Number of trades opened in the last 6 months at the time the credit profile was pulled|\n",
    "|DebtToIncomeRatio| |The debt to income ratio of the borrower at the time the credit profile was pulled. This value is Null if the debt to income ratio is not available. This value is capped at 10.01 (any debt to income ratio larger than 1000% will be returned as 1001%)|\n",
    "|IncomeRange| |The income range of the borrower at the time the listing was created.|\n",
    "|IncomeVerifiable| |The borrower indicated they have the required documentation to support their income|\n",
    "|StatedMonthlyIncome| |The monthly income the borrower stated at the time the listing was created|\n",
    "|LoanKey| |Unique key for each loan. This is the same key that is used in the API|\n",
    "|TotalProsperLoans| |Number of Prosper loans the borrower at the time they created this listing. This value will be null if the borrower had no prior loans|\n",
    "|TotalProsperPaymentsBilled| |Number of on time payments the borrower made on Prosper loans at the time they created this listing. This value will be null if the borrower had no prior loans|\n",
    "|OnTimeProsperPayments| |Number of on time payments the borrower had made on Prosper loans at the time they created this listing. This value will be null if the borrower has no prior loans|\n",
    "|ProsperPaymentsLessThanOneMonthLate| |Number of payments the borrower made on Prosper loans that were less than one month late at the time they created this listing. This value will be null if the borrower had no prior loans|\n",
    "|ProsperPaymentsOneMonthPlusLate| |Number of payments the borrower made on Prosper loans that were greater than one month late at the time they created this listing. This value will be null if the borrower had no prior loans|\n",
    "|ProsperPrincipalBorrowed| |Total principal borrowed on Prosper loans at the time the listing was created. This value will be null if the borrower had no prior loans|\n",
    "|ProsperPrincipalOutstanding| |Principal outstanding on Prosper loans at the time the listing was created. This value will be null if the borrower had no prior loans|\n",
    "|ScorexChangeAtTimeOfListing| |Borrower's credit score change at the time the credit profile was pulled. This will be the change relative to the borrower's last Prosper loan. This value will be null if the borrower had no prior loans|\n",
    "|LoanCurrentDaysDelinquent| |The number of days delinquent|\n",
    "|LoanFirstDefaultedCycleNumber| |The cycle the loan was charged off. If the loan has not charged off the value will be null|\n",
    "|LoanMonthsSinceOrigination| |Number of months since the loan originated|\n",
    "|LoanNumber| |Unique numeric value associated with the loan|\n",
    "|LoanOriginalAmount| |The origination amount of the loan|\n",
    "|LoanOriginationDate| |The date the loan was originated|\n",
    "|LoanOriginationQuarter| |The quarter in which the loan was originated|\n",
    "|MemberKey| |The unique key that is associated with the borrower. This is the same identifier that is used in the API member object|\n",
    "|MonthlyLoanPayment| |The scheduled monthly loan payment|\n",
    "|LP_CustomerPayments| |Pre charge-off cumulative gross payments made by the borrower on the loan. If the loan has charged off, this value will exclude any recoveries|\n",
    "|LP_CustomerPrincipalPayments| |Pre charge-off cumulative principal payments made by the borrower on the loan. If the loan has charged off, this value will exclude any recoveries|\n",
    "|LP_InterestandFees| |Pre charge-off cumulative interest and fees paid by the borrower. If the loan has charged off, this value will exclude any recoveries|\n",
    "|LP_ServiceFees| |Cumulative service fees paid by the investors who have invested in the loan|\n",
    "|LP_CollectionFees| |Cumulative collection fees paid by the investors who have invested in the loan|\n",
    "|LP_GrossPrincipalLoss| |The gross charged off amount of the loan|\n",
    "|LP_NetPrincipalLoss| |The principal that remains uncollected after any recoveries|\n",
    "|LP_NonPrincipalRecoverypayments| |The interest and fee component of any recovery payments. The current payment policy applies payments in the following order: Fees, interest, principal|\n",
    "|PercentFunded| |Percent the listing was funded|\n",
    "|Recommendations| |Number of recommendations the borrower had at the time the listing was created|\n",
    "|InvestmentFromFriendsCount| |Number of friends that made an investment in the loan|\n",
    "|InvestmentFromFriendsAmount| |Dollar amount of investments that were made by friends|\n",
    "|Investors| |The number of investors that funded the loan|"
   ]
  },
  {
   "cell_type": "code",
   "execution_count": 36,
   "id": "eba49996-2a91-43c3-9332-c62cf3d10f69",
   "metadata": {},
   "outputs": [
    {
     "data": {
      "text/html": [
       "<div>\n",
       "<style scoped>\n",
       "    .dataframe tbody tr th:only-of-type {\n",
       "        vertical-align: middle;\n",
       "    }\n",
       "\n",
       "    .dataframe tbody tr th {\n",
       "        vertical-align: top;\n",
       "    }\n",
       "\n",
       "    .dataframe thead th {\n",
       "        text-align: right;\n",
       "    }\n",
       "</style>\n",
       "<table border=\"1\" class=\"dataframe\">\n",
       "  <thead>\n",
       "    <tr style=\"text-align: right;\">\n",
       "      <th></th>\n",
       "      <th>ListingNumber</th>\n",
       "      <th>Term</th>\n",
       "      <th>BorrowerAPR</th>\n",
       "      <th>BorrowerRate</th>\n",
       "      <th>LenderYield</th>\n",
       "      <th>EstimatedEffectiveYield</th>\n",
       "      <th>EstimatedLoss</th>\n",
       "      <th>EstimatedReturn</th>\n",
       "      <th>ProsperRating (numeric)</th>\n",
       "      <th>ProsperScore</th>\n",
       "      <th>...</th>\n",
       "      <th>LP_ServiceFees</th>\n",
       "      <th>LP_CollectionFees</th>\n",
       "      <th>LP_GrossPrincipalLoss</th>\n",
       "      <th>LP_NetPrincipalLoss</th>\n",
       "      <th>LP_NonPrincipalRecoverypayments</th>\n",
       "      <th>PercentFunded</th>\n",
       "      <th>Recommendations</th>\n",
       "      <th>InvestmentFromFriendsCount</th>\n",
       "      <th>InvestmentFromFriendsAmount</th>\n",
       "      <th>Investors</th>\n",
       "    </tr>\n",
       "  </thead>\n",
       "  <tbody>\n",
       "    <tr>\n",
       "      <th>count</th>\n",
       "      <td>1.139370e+05</td>\n",
       "      <td>113937.000000</td>\n",
       "      <td>113912.000000</td>\n",
       "      <td>113937.000000</td>\n",
       "      <td>113937.000000</td>\n",
       "      <td>84853.000000</td>\n",
       "      <td>84853.000000</td>\n",
       "      <td>84853.000000</td>\n",
       "      <td>84853.000000</td>\n",
       "      <td>84853.000000</td>\n",
       "      <td>...</td>\n",
       "      <td>113937.000000</td>\n",
       "      <td>113937.000000</td>\n",
       "      <td>113937.000000</td>\n",
       "      <td>113937.000000</td>\n",
       "      <td>113937.000000</td>\n",
       "      <td>113937.000000</td>\n",
       "      <td>113937.000000</td>\n",
       "      <td>113937.000000</td>\n",
       "      <td>113937.000000</td>\n",
       "      <td>113937.000000</td>\n",
       "    </tr>\n",
       "    <tr>\n",
       "      <th>mean</th>\n",
       "      <td>6.278857e+05</td>\n",
       "      <td>40.830248</td>\n",
       "      <td>0.218828</td>\n",
       "      <td>0.192764</td>\n",
       "      <td>0.182701</td>\n",
       "      <td>0.168661</td>\n",
       "      <td>0.080306</td>\n",
       "      <td>0.096068</td>\n",
       "      <td>4.072243</td>\n",
       "      <td>5.950067</td>\n",
       "      <td>...</td>\n",
       "      <td>-54.725641</td>\n",
       "      <td>-14.242698</td>\n",
       "      <td>700.446342</td>\n",
       "      <td>681.420499</td>\n",
       "      <td>25.142686</td>\n",
       "      <td>0.998584</td>\n",
       "      <td>0.048027</td>\n",
       "      <td>0.023460</td>\n",
       "      <td>16.550751</td>\n",
       "      <td>80.475228</td>\n",
       "    </tr>\n",
       "    <tr>\n",
       "      <th>std</th>\n",
       "      <td>3.280762e+05</td>\n",
       "      <td>10.436212</td>\n",
       "      <td>0.080364</td>\n",
       "      <td>0.074818</td>\n",
       "      <td>0.074516</td>\n",
       "      <td>0.068467</td>\n",
       "      <td>0.046764</td>\n",
       "      <td>0.030403</td>\n",
       "      <td>1.673227</td>\n",
       "      <td>2.376501</td>\n",
       "      <td>...</td>\n",
       "      <td>60.675425</td>\n",
       "      <td>109.232758</td>\n",
       "      <td>2388.513831</td>\n",
       "      <td>2357.167068</td>\n",
       "      <td>275.657937</td>\n",
       "      <td>0.017919</td>\n",
       "      <td>0.332353</td>\n",
       "      <td>0.232412</td>\n",
       "      <td>294.545422</td>\n",
       "      <td>103.239020</td>\n",
       "    </tr>\n",
       "    <tr>\n",
       "      <th>min</th>\n",
       "      <td>4.000000e+00</td>\n",
       "      <td>12.000000</td>\n",
       "      <td>0.006530</td>\n",
       "      <td>0.000000</td>\n",
       "      <td>-0.010000</td>\n",
       "      <td>-0.182700</td>\n",
       "      <td>0.004900</td>\n",
       "      <td>-0.182700</td>\n",
       "      <td>1.000000</td>\n",
       "      <td>1.000000</td>\n",
       "      <td>...</td>\n",
       "      <td>-664.870000</td>\n",
       "      <td>-9274.750000</td>\n",
       "      <td>-94.200000</td>\n",
       "      <td>-954.550000</td>\n",
       "      <td>0.000000</td>\n",
       "      <td>0.700000</td>\n",
       "      <td>0.000000</td>\n",
       "      <td>0.000000</td>\n",
       "      <td>0.000000</td>\n",
       "      <td>1.000000</td>\n",
       "    </tr>\n",
       "    <tr>\n",
       "      <th>25%</th>\n",
       "      <td>4.009190e+05</td>\n",
       "      <td>36.000000</td>\n",
       "      <td>0.156290</td>\n",
       "      <td>0.134000</td>\n",
       "      <td>0.124200</td>\n",
       "      <td>0.115670</td>\n",
       "      <td>0.042400</td>\n",
       "      <td>0.074080</td>\n",
       "      <td>3.000000</td>\n",
       "      <td>4.000000</td>\n",
       "      <td>...</td>\n",
       "      <td>-73.180000</td>\n",
       "      <td>0.000000</td>\n",
       "      <td>0.000000</td>\n",
       "      <td>0.000000</td>\n",
       "      <td>0.000000</td>\n",
       "      <td>1.000000</td>\n",
       "      <td>0.000000</td>\n",
       "      <td>0.000000</td>\n",
       "      <td>0.000000</td>\n",
       "      <td>2.000000</td>\n",
       "    </tr>\n",
       "    <tr>\n",
       "      <th>50%</th>\n",
       "      <td>6.005540e+05</td>\n",
       "      <td>36.000000</td>\n",
       "      <td>0.209760</td>\n",
       "      <td>0.184000</td>\n",
       "      <td>0.173000</td>\n",
       "      <td>0.161500</td>\n",
       "      <td>0.072400</td>\n",
       "      <td>0.091700</td>\n",
       "      <td>4.000000</td>\n",
       "      <td>6.000000</td>\n",
       "      <td>...</td>\n",
       "      <td>-34.440000</td>\n",
       "      <td>0.000000</td>\n",
       "      <td>0.000000</td>\n",
       "      <td>0.000000</td>\n",
       "      <td>0.000000</td>\n",
       "      <td>1.000000</td>\n",
       "      <td>0.000000</td>\n",
       "      <td>0.000000</td>\n",
       "      <td>0.000000</td>\n",
       "      <td>44.000000</td>\n",
       "    </tr>\n",
       "    <tr>\n",
       "      <th>75%</th>\n",
       "      <td>8.926340e+05</td>\n",
       "      <td>36.000000</td>\n",
       "      <td>0.283810</td>\n",
       "      <td>0.250000</td>\n",
       "      <td>0.240000</td>\n",
       "      <td>0.224300</td>\n",
       "      <td>0.112000</td>\n",
       "      <td>0.116600</td>\n",
       "      <td>5.000000</td>\n",
       "      <td>8.000000</td>\n",
       "      <td>...</td>\n",
       "      <td>-13.920000</td>\n",
       "      <td>0.000000</td>\n",
       "      <td>0.000000</td>\n",
       "      <td>0.000000</td>\n",
       "      <td>0.000000</td>\n",
       "      <td>1.000000</td>\n",
       "      <td>0.000000</td>\n",
       "      <td>0.000000</td>\n",
       "      <td>0.000000</td>\n",
       "      <td>115.000000</td>\n",
       "    </tr>\n",
       "    <tr>\n",
       "      <th>max</th>\n",
       "      <td>1.255725e+06</td>\n",
       "      <td>60.000000</td>\n",
       "      <td>0.512290</td>\n",
       "      <td>0.497500</td>\n",
       "      <td>0.492500</td>\n",
       "      <td>0.319900</td>\n",
       "      <td>0.366000</td>\n",
       "      <td>0.283700</td>\n",
       "      <td>7.000000</td>\n",
       "      <td>11.000000</td>\n",
       "      <td>...</td>\n",
       "      <td>32.060000</td>\n",
       "      <td>0.000000</td>\n",
       "      <td>25000.000000</td>\n",
       "      <td>25000.000000</td>\n",
       "      <td>21117.900000</td>\n",
       "      <td>1.012500</td>\n",
       "      <td>39.000000</td>\n",
       "      <td>33.000000</td>\n",
       "      <td>25000.000000</td>\n",
       "      <td>1189.000000</td>\n",
       "    </tr>\n",
       "  </tbody>\n",
       "</table>\n",
       "<p>8 rows × 61 columns</p>\n",
       "</div>"
      ],
      "text/plain": [
       "       ListingNumber           Term    BorrowerAPR   BorrowerRate  \\\n",
       "count   1.139370e+05  113937.000000  113912.000000  113937.000000   \n",
       "mean    6.278857e+05      40.830248       0.218828       0.192764   \n",
       "std     3.280762e+05      10.436212       0.080364       0.074818   \n",
       "min     4.000000e+00      12.000000       0.006530       0.000000   \n",
       "25%     4.009190e+05      36.000000       0.156290       0.134000   \n",
       "50%     6.005540e+05      36.000000       0.209760       0.184000   \n",
       "75%     8.926340e+05      36.000000       0.283810       0.250000   \n",
       "max     1.255725e+06      60.000000       0.512290       0.497500   \n",
       "\n",
       "         LenderYield  EstimatedEffectiveYield  EstimatedLoss  EstimatedReturn  \\\n",
       "count  113937.000000             84853.000000   84853.000000     84853.000000   \n",
       "mean        0.182701                 0.168661       0.080306         0.096068   \n",
       "std         0.074516                 0.068467       0.046764         0.030403   \n",
       "min        -0.010000                -0.182700       0.004900        -0.182700   \n",
       "25%         0.124200                 0.115670       0.042400         0.074080   \n",
       "50%         0.173000                 0.161500       0.072400         0.091700   \n",
       "75%         0.240000                 0.224300       0.112000         0.116600   \n",
       "max         0.492500                 0.319900       0.366000         0.283700   \n",
       "\n",
       "       ProsperRating (numeric)  ProsperScore  ...  LP_ServiceFees  \\\n",
       "count             84853.000000  84853.000000  ...   113937.000000   \n",
       "mean                  4.072243      5.950067  ...      -54.725641   \n",
       "std                   1.673227      2.376501  ...       60.675425   \n",
       "min                   1.000000      1.000000  ...     -664.870000   \n",
       "25%                   3.000000      4.000000  ...      -73.180000   \n",
       "50%                   4.000000      6.000000  ...      -34.440000   \n",
       "75%                   5.000000      8.000000  ...      -13.920000   \n",
       "max                   7.000000     11.000000  ...       32.060000   \n",
       "\n",
       "       LP_CollectionFees  LP_GrossPrincipalLoss  LP_NetPrincipalLoss  \\\n",
       "count      113937.000000          113937.000000        113937.000000   \n",
       "mean          -14.242698             700.446342           681.420499   \n",
       "std           109.232758            2388.513831          2357.167068   \n",
       "min         -9274.750000             -94.200000          -954.550000   \n",
       "25%             0.000000               0.000000             0.000000   \n",
       "50%             0.000000               0.000000             0.000000   \n",
       "75%             0.000000               0.000000             0.000000   \n",
       "max             0.000000           25000.000000         25000.000000   \n",
       "\n",
       "       LP_NonPrincipalRecoverypayments  PercentFunded  Recommendations  \\\n",
       "count                    113937.000000  113937.000000    113937.000000   \n",
       "mean                         25.142686       0.998584         0.048027   \n",
       "std                         275.657937       0.017919         0.332353   \n",
       "min                           0.000000       0.700000         0.000000   \n",
       "25%                           0.000000       1.000000         0.000000   \n",
       "50%                           0.000000       1.000000         0.000000   \n",
       "75%                           0.000000       1.000000         0.000000   \n",
       "max                       21117.900000       1.012500        39.000000   \n",
       "\n",
       "       InvestmentFromFriendsCount  InvestmentFromFriendsAmount      Investors  \n",
       "count               113937.000000                113937.000000  113937.000000  \n",
       "mean                     0.023460                    16.550751      80.475228  \n",
       "std                      0.232412                   294.545422     103.239020  \n",
       "min                      0.000000                     0.000000       1.000000  \n",
       "25%                      0.000000                     0.000000       2.000000  \n",
       "50%                      0.000000                     0.000000      44.000000  \n",
       "75%                      0.000000                     0.000000     115.000000  \n",
       "max                     33.000000                 25000.000000    1189.000000  \n",
       "\n",
       "[8 rows x 61 columns]"
      ]
     },
     "execution_count": 36,
     "metadata": {},
     "output_type": "execute_result"
    }
   ],
   "source": [
    "# Statistical Distribution of Dataset\n",
    "\n",
    "df.describe()"
   ]
  },
  {
   "cell_type": "code",
   "execution_count": 37,
   "id": "8e825cfe-7e2b-48b9-a3fc-adeb928282fe",
   "metadata": {},
   "outputs": [
    {
     "name": "stdout",
     "output_type": "stream",
     "text": [
      "<class 'pandas.core.frame.DataFrame'>\n",
      "RangeIndex: 113937 entries, 0 to 113936\n",
      "Data columns (total 81 columns):\n",
      " #   Column                               Non-Null Count   Dtype  \n",
      "---  ------                               --------------   -----  \n",
      " 0   ListingKey                           113937 non-null  object \n",
      " 1   ListingNumber                        113937 non-null  int64  \n",
      " 2   ListingCreationDate                  113937 non-null  object \n",
      " 3   CreditGrade                          28953 non-null   object \n",
      " 4   Term                                 113937 non-null  int64  \n",
      " 5   LoanStatus                           113937 non-null  object \n",
      " 6   ClosedDate                           55089 non-null   object \n",
      " 7   BorrowerAPR                          113912 non-null  float64\n",
      " 8   BorrowerRate                         113937 non-null  float64\n",
      " 9   LenderYield                          113937 non-null  float64\n",
      " 10  EstimatedEffectiveYield              84853 non-null   float64\n",
      " 11  EstimatedLoss                        84853 non-null   float64\n",
      " 12  EstimatedReturn                      84853 non-null   float64\n",
      " 13  ProsperRating (numeric)              84853 non-null   float64\n",
      " 14  ProsperRating (Alpha)                84853 non-null   object \n",
      " 15  ProsperScore                         84853 non-null   float64\n",
      " 16  ListingCategory (numeric)            113937 non-null  int64  \n",
      " 17  BorrowerState                        108422 non-null  object \n",
      " 18  Occupation                           110349 non-null  object \n",
      " 19  EmploymentStatus                     111682 non-null  object \n",
      " 20  EmploymentStatusDuration             106312 non-null  float64\n",
      " 21  IsBorrowerHomeowner                  113937 non-null  bool   \n",
      " 22  CurrentlyInGroup                     113937 non-null  bool   \n",
      " 23  GroupKey                             13341 non-null   object \n",
      " 24  DateCreditPulled                     113937 non-null  object \n",
      " 25  CreditScoreRangeLower                113346 non-null  float64\n",
      " 26  CreditScoreRangeUpper                113346 non-null  float64\n",
      " 27  FirstRecordedCreditLine              113240 non-null  object \n",
      " 28  CurrentCreditLines                   106333 non-null  float64\n",
      " 29  OpenCreditLines                      106333 non-null  float64\n",
      " 30  TotalCreditLinespast7years           113240 non-null  float64\n",
      " 31  OpenRevolvingAccounts                113937 non-null  int64  \n",
      " 32  OpenRevolvingMonthlyPayment          113937 non-null  float64\n",
      " 33  InquiriesLast6Months                 113240 non-null  float64\n",
      " 34  TotalInquiries                       112778 non-null  float64\n",
      " 35  CurrentDelinquencies                 113240 non-null  float64\n",
      " 36  AmountDelinquent                     106315 non-null  float64\n",
      " 37  DelinquenciesLast7Years              112947 non-null  float64\n",
      " 38  PublicRecordsLast10Years             113240 non-null  float64\n",
      " 39  PublicRecordsLast12Months            106333 non-null  float64\n",
      " 40  RevolvingCreditBalance               106333 non-null  float64\n",
      " 41  BankcardUtilization                  106333 non-null  float64\n",
      " 42  AvailableBankcardCredit              106393 non-null  float64\n",
      " 43  TotalTrades                          106393 non-null  float64\n",
      " 44  TradesNeverDelinquent (percentage)   106393 non-null  float64\n",
      " 45  TradesOpenedLast6Months              106393 non-null  float64\n",
      " 46  DebtToIncomeRatio                    105383 non-null  float64\n",
      " 47  IncomeRange                          113937 non-null  object \n",
      " 48  IncomeVerifiable                     113937 non-null  bool   \n",
      " 49  StatedMonthlyIncome                  113937 non-null  float64\n",
      " 50  LoanKey                              113937 non-null  object \n",
      " 51  TotalProsperLoans                    22085 non-null   float64\n",
      " 52  TotalProsperPaymentsBilled           22085 non-null   float64\n",
      " 53  OnTimeProsperPayments                22085 non-null   float64\n",
      " 54  ProsperPaymentsLessThanOneMonthLate  22085 non-null   float64\n",
      " 55  ProsperPaymentsOneMonthPlusLate      22085 non-null   float64\n",
      " 56  ProsperPrincipalBorrowed             22085 non-null   float64\n",
      " 57  ProsperPrincipalOutstanding          22085 non-null   float64\n",
      " 58  ScorexChangeAtTimeOfListing          18928 non-null   float64\n",
      " 59  LoanCurrentDaysDelinquent            113937 non-null  int64  \n",
      " 60  LoanFirstDefaultedCycleNumber        16952 non-null   float64\n",
      " 61  LoanMonthsSinceOrigination           113937 non-null  int64  \n",
      " 62  LoanNumber                           113937 non-null  int64  \n",
      " 63  LoanOriginalAmount                   113937 non-null  int64  \n",
      " 64  LoanOriginationDate                  113937 non-null  object \n",
      " 65  LoanOriginationQuarter               113937 non-null  object \n",
      " 66  MemberKey                            113937 non-null  object \n",
      " 67  MonthlyLoanPayment                   113937 non-null  float64\n",
      " 68  LP_CustomerPayments                  113937 non-null  float64\n",
      " 69  LP_CustomerPrincipalPayments         113937 non-null  float64\n",
      " 70  LP_InterestandFees                   113937 non-null  float64\n",
      " 71  LP_ServiceFees                       113937 non-null  float64\n",
      " 72  LP_CollectionFees                    113937 non-null  float64\n",
      " 73  LP_GrossPrincipalLoss                113937 non-null  float64\n",
      " 74  LP_NetPrincipalLoss                  113937 non-null  float64\n",
      " 75  LP_NonPrincipalRecoverypayments      113937 non-null  float64\n",
      " 76  PercentFunded                        113937 non-null  float64\n",
      " 77  Recommendations                      113937 non-null  int64  \n",
      " 78  InvestmentFromFriendsCount           113937 non-null  int64  \n",
      " 79  InvestmentFromFriendsAmount          113937 non-null  float64\n",
      " 80  Investors                            113937 non-null  int64  \n",
      "dtypes: bool(3), float64(50), int64(11), object(17)\n",
      "memory usage: 68.1+ MB\n"
     ]
    }
   ],
   "source": [
    "# Dataset information\n",
    "\n",
    "df.info()"
   ]
  },
  {
   "cell_type": "code",
   "execution_count": 38,
   "id": "9724204b-e642-412e-ab8e-c97b9d7fb1e7",
   "metadata": {},
   "outputs": [
    {
     "data": {
      "text/plain": [
       "GroupKey                               100596\n",
       "LoanFirstDefaultedCycleNumber           96985\n",
       "ScorexChangeAtTimeOfListing             95009\n",
       "ProsperPrincipalOutstanding             91852\n",
       "ProsperPrincipalBorrowed                91852\n",
       "ProsperPaymentsOneMonthPlusLate         91852\n",
       "ProsperPaymentsLessThanOneMonthLate     91852\n",
       "OnTimeProsperPayments                   91852\n",
       "TotalProsperLoans                       91852\n",
       "TotalProsperPaymentsBilled              91852\n",
       "CreditGrade                             84984\n",
       "ClosedDate                              58848\n",
       "ProsperRating (Alpha)                   29084\n",
       "ProsperScore                            29084\n",
       "EstimatedReturn                         29084\n",
       "ProsperRating (numeric)                 29084\n",
       "EstimatedLoss                           29084\n",
       "EstimatedEffectiveYield                 29084\n",
       "DebtToIncomeRatio                        8554\n",
       "EmploymentStatusDuration                 7625\n",
       "AmountDelinquent                         7622\n",
       "CurrentCreditLines                       7604\n",
       "BankcardUtilization                      7604\n",
       "PublicRecordsLast12Months                7604\n",
       "OpenCreditLines                          7604\n",
       "RevolvingCreditBalance                   7604\n",
       "TotalTrades                              7544\n",
       "TradesOpenedLast6Months                  7544\n",
       "TradesNeverDelinquent (percentage)       7544\n",
       "AvailableBankcardCredit                  7544\n",
       "BorrowerState                            5515\n",
       "Occupation                               3588\n",
       "EmploymentStatus                         2255\n",
       "TotalInquiries                           1159\n",
       "DelinquenciesLast7Years                   990\n",
       "FirstRecordedCreditLine                   697\n",
       "PublicRecordsLast10Years                  697\n",
       "TotalCreditLinespast7years                697\n",
       "CurrentDelinquencies                      697\n",
       "InquiriesLast6Months                      697\n",
       "CreditScoreRangeUpper                     591\n",
       "CreditScoreRangeLower                     591\n",
       "BorrowerAPR                                25\n",
       "dtype: int64"
      ]
     },
     "execution_count": 38,
     "metadata": {},
     "output_type": "execute_result"
    }
   ],
   "source": [
    "#Checking for columns with missing values\n",
    "\n",
    "df.isnull().sum().sort_values(ascending=False).head(43)"
   ]
  },
  {
   "cell_type": "code",
   "execution_count": 39,
   "id": "6808d4fa-04ae-4135-80aa-7e47f0f58afa",
   "metadata": {},
   "outputs": [
    {
     "data": {
      "text/plain": [
       "GroupKey                         0.882909\n",
       "LoanFirstDefaultedCycleNumber    0.851216\n",
       "ScorexChangeAtTimeOfListing      0.833873\n",
       "ProsperPrincipalOutstanding      0.806165\n",
       "ProsperPrincipalBorrowed         0.806165\n",
       "                                   ...   \n",
       "IncomeRange                      0.000000\n",
       "IncomeVerifiable                 0.000000\n",
       "StatedMonthlyIncome              0.000000\n",
       "LoanKey                          0.000000\n",
       "Investors                        0.000000\n",
       "Length: 81, dtype: float64"
      ]
     },
     "execution_count": 39,
     "metadata": {},
     "output_type": "execute_result"
    }
   ],
   "source": [
    "# The percentage of missing values\n",
    "\n",
    "df.isnull().sum().sort_values(ascending=False)/len(df)"
   ]
  },
  {
   "cell_type": "code",
   "execution_count": 40,
   "id": "38304802-964c-4eea-9419-4fd3a42f1ad4",
   "metadata": {},
   "outputs": [
    {
     "data": {
      "text/plain": [
       "0"
      ]
     },
     "execution_count": 40,
     "metadata": {},
     "output_type": "execute_result"
    }
   ],
   "source": [
    "# Checking for duplicate entries\n",
    "\n",
    "df.duplicated().sum()\n",
    "\n",
    "# It was discovered that no duplicate entry was made"
   ]
  },
  {
   "cell_type": "code",
   "execution_count": 41,
   "id": "3b343de7-563c-432d-a1ff-743ddd28ebb7",
   "metadata": {},
   "outputs": [
    {
     "data": {
      "text/html": [
       "<div>\n",
       "<style scoped>\n",
       "    .dataframe tbody tr th:only-of-type {\n",
       "        vertical-align: middle;\n",
       "    }\n",
       "\n",
       "    .dataframe tbody tr th {\n",
       "        vertical-align: top;\n",
       "    }\n",
       "\n",
       "    .dataframe thead th {\n",
       "        text-align: right;\n",
       "    }\n",
       "</style>\n",
       "<table border=\"1\" class=\"dataframe\">\n",
       "  <thead>\n",
       "    <tr style=\"text-align: right;\">\n",
       "      <th></th>\n",
       "      <th>ListingKey</th>\n",
       "      <th>ListingNumber</th>\n",
       "      <th>ListingCreationDate</th>\n",
       "      <th>CreditGrade</th>\n",
       "      <th>Term</th>\n",
       "      <th>LoanStatus</th>\n",
       "      <th>ClosedDate</th>\n",
       "      <th>BorrowerAPR</th>\n",
       "      <th>BorrowerRate</th>\n",
       "      <th>LenderYield</th>\n",
       "      <th>...</th>\n",
       "      <th>LP_ServiceFees</th>\n",
       "      <th>LP_CollectionFees</th>\n",
       "      <th>LP_GrossPrincipalLoss</th>\n",
       "      <th>LP_NetPrincipalLoss</th>\n",
       "      <th>LP_NonPrincipalRecoverypayments</th>\n",
       "      <th>PercentFunded</th>\n",
       "      <th>Recommendations</th>\n",
       "      <th>InvestmentFromFriendsCount</th>\n",
       "      <th>InvestmentFromFriendsAmount</th>\n",
       "      <th>Investors</th>\n",
       "    </tr>\n",
       "  </thead>\n",
       "  <tbody>\n",
       "    <tr>\n",
       "      <th>70569</th>\n",
       "      <td>7898352344029396401B556</td>\n",
       "      <td>519823</td>\n",
       "      <td>2011-08-04 19:23:50.750000000</td>\n",
       "      <td>NaN</td>\n",
       "      <td>36</td>\n",
       "      <td>Current</td>\n",
       "      <td>NaN</td>\n",
       "      <td>0.34621</td>\n",
       "      <td>0.3099</td>\n",
       "      <td>0.2999</td>\n",
       "      <td>...</td>\n",
       "      <td>-34.11</td>\n",
       "      <td>0.00</td>\n",
       "      <td>0.00</td>\n",
       "      <td>0.00</td>\n",
       "      <td>0.0</td>\n",
       "      <td>1.0</td>\n",
       "      <td>0</td>\n",
       "      <td>0</td>\n",
       "      <td>0.0</td>\n",
       "      <td>29</td>\n",
       "    </tr>\n",
       "    <tr>\n",
       "      <th>79232</th>\n",
       "      <td>F5C23584394302692B63186</td>\n",
       "      <td>847779</td>\n",
       "      <td>2013-07-23 08:56:40.997000000</td>\n",
       "      <td>NaN</td>\n",
       "      <td>60</td>\n",
       "      <td>Current</td>\n",
       "      <td>NaN</td>\n",
       "      <td>0.21156</td>\n",
       "      <td>0.1874</td>\n",
       "      <td>0.1774</td>\n",
       "      <td>...</td>\n",
       "      <td>-113.66</td>\n",
       "      <td>0.00</td>\n",
       "      <td>0.00</td>\n",
       "      <td>0.00</td>\n",
       "      <td>0.0</td>\n",
       "      <td>1.0</td>\n",
       "      <td>0</td>\n",
       "      <td>0</td>\n",
       "      <td>0.0</td>\n",
       "      <td>1</td>\n",
       "    </tr>\n",
       "    <tr>\n",
       "      <th>101582</th>\n",
       "      <td>CB313385421315509EBD2E5</td>\n",
       "      <td>118637</td>\n",
       "      <td>2007-04-03 16:52:34.987000000</td>\n",
       "      <td>C</td>\n",
       "      <td>36</td>\n",
       "      <td>Chargedoff</td>\n",
       "      <td>2009-02-20 00:00:00</td>\n",
       "      <td>0.19981</td>\n",
       "      <td>0.1925</td>\n",
       "      <td>0.1725</td>\n",
       "      <td>...</td>\n",
       "      <td>-107.06</td>\n",
       "      <td>-125.06</td>\n",
       "      <td>6339.66</td>\n",
       "      <td>6339.67</td>\n",
       "      <td>0.0</td>\n",
       "      <td>1.0</td>\n",
       "      <td>0</td>\n",
       "      <td>0</td>\n",
       "      <td>0.0</td>\n",
       "      <td>240</td>\n",
       "    </tr>\n",
       "    <tr>\n",
       "      <th>72522</th>\n",
       "      <td>E0C03400444489992A301CD</td>\n",
       "      <td>203654</td>\n",
       "      <td>2007-09-19 03:28:28.633000000</td>\n",
       "      <td>D</td>\n",
       "      <td>36</td>\n",
       "      <td>Chargedoff</td>\n",
       "      <td>2008-12-28 00:00:00</td>\n",
       "      <td>0.19991</td>\n",
       "      <td>0.1926</td>\n",
       "      <td>0.1826</td>\n",
       "      <td>...</td>\n",
       "      <td>-30.16</td>\n",
       "      <td>0.00</td>\n",
       "      <td>3124.43</td>\n",
       "      <td>3124.43</td>\n",
       "      <td>0.0</td>\n",
       "      <td>1.0</td>\n",
       "      <td>0</td>\n",
       "      <td>0</td>\n",
       "      <td>0.0</td>\n",
       "      <td>32</td>\n",
       "    </tr>\n",
       "    <tr>\n",
       "      <th>39963</th>\n",
       "      <td>8F1C35732076553869B9A2D</td>\n",
       "      <td>724030</td>\n",
       "      <td>2013-03-06 14:20:55.877000000</td>\n",
       "      <td>NaN</td>\n",
       "      <td>60</td>\n",
       "      <td>Completed</td>\n",
       "      <td>2013-06-21 00:00:00</td>\n",
       "      <td>0.16499</td>\n",
       "      <td>0.1419</td>\n",
       "      <td>0.1319</td>\n",
       "      <td>...</td>\n",
       "      <td>-30.41</td>\n",
       "      <td>0.00</td>\n",
       "      <td>0.00</td>\n",
       "      <td>0.00</td>\n",
       "      <td>0.0</td>\n",
       "      <td>1.0</td>\n",
       "      <td>0</td>\n",
       "      <td>0</td>\n",
       "      <td>0.0</td>\n",
       "      <td>1</td>\n",
       "    </tr>\n",
       "  </tbody>\n",
       "</table>\n",
       "<p>5 rows × 81 columns</p>\n",
       "</div>"
      ],
      "text/plain": [
       "                     ListingKey  ListingNumber            ListingCreationDate  \\\n",
       "70569   7898352344029396401B556         519823  2011-08-04 19:23:50.750000000   \n",
       "79232   F5C23584394302692B63186         847779  2013-07-23 08:56:40.997000000   \n",
       "101582  CB313385421315509EBD2E5         118637  2007-04-03 16:52:34.987000000   \n",
       "72522   E0C03400444489992A301CD         203654  2007-09-19 03:28:28.633000000   \n",
       "39963   8F1C35732076553869B9A2D         724030  2013-03-06 14:20:55.877000000   \n",
       "\n",
       "       CreditGrade  Term  LoanStatus           ClosedDate  BorrowerAPR  \\\n",
       "70569          NaN    36     Current                  NaN      0.34621   \n",
       "79232          NaN    60     Current                  NaN      0.21156   \n",
       "101582           C    36  Chargedoff  2009-02-20 00:00:00      0.19981   \n",
       "72522            D    36  Chargedoff  2008-12-28 00:00:00      0.19991   \n",
       "39963          NaN    60   Completed  2013-06-21 00:00:00      0.16499   \n",
       "\n",
       "        BorrowerRate  LenderYield  ...  LP_ServiceFees  LP_CollectionFees  \\\n",
       "70569         0.3099       0.2999  ...          -34.11               0.00   \n",
       "79232         0.1874       0.1774  ...         -113.66               0.00   \n",
       "101582        0.1925       0.1725  ...         -107.06            -125.06   \n",
       "72522         0.1926       0.1826  ...          -30.16               0.00   \n",
       "39963         0.1419       0.1319  ...          -30.41               0.00   \n",
       "\n",
       "        LP_GrossPrincipalLoss  LP_NetPrincipalLoss  \\\n",
       "70569                    0.00                 0.00   \n",
       "79232                    0.00                 0.00   \n",
       "101582                6339.66              6339.67   \n",
       "72522                 3124.43              3124.43   \n",
       "39963                    0.00                 0.00   \n",
       "\n",
       "       LP_NonPrincipalRecoverypayments  PercentFunded  Recommendations  \\\n",
       "70569                              0.0            1.0                0   \n",
       "79232                              0.0            1.0                0   \n",
       "101582                             0.0            1.0                0   \n",
       "72522                              0.0            1.0                0   \n",
       "39963                              0.0            1.0                0   \n",
       "\n",
       "       InvestmentFromFriendsCount InvestmentFromFriendsAmount Investors  \n",
       "70569                           0                         0.0        29  \n",
       "79232                           0                         0.0         1  \n",
       "101582                          0                         0.0       240  \n",
       "72522                           0                         0.0        32  \n",
       "39963                           0                         0.0         1  \n",
       "\n",
       "[5 rows x 81 columns]"
      ]
     },
     "execution_count": 41,
     "metadata": {},
     "output_type": "execute_result"
    }
   ],
   "source": [
    "df.sample(5)"
   ]
  },
  {
   "cell_type": "markdown",
   "id": "bd4fdbe1-9119-44ed-9cf3-a2cb6b9da85c",
   "metadata": {},
   "source": [
    "### Data Cleaning"
   ]
  },
  {
   "cell_type": "markdown",
   "id": "2b432c9f-db78-4135-bf9b-3f986fe849e7",
   "metadata": {},
   "source": [
    "For the purpose of this project, some columns were removed in order to simplify the data."
   ]
  },
  {
   "cell_type": "code",
   "execution_count": 42,
   "id": "5e06b43d-ee8e-4ebd-b2a3-6e4d579b5a4a",
   "metadata": {},
   "outputs": [
    {
     "data": {
      "text/plain": [
       "(113937, 81)"
      ]
     },
     "execution_count": 42,
     "metadata": {},
     "output_type": "execute_result"
    }
   ],
   "source": [
    "# Making a copy of the dataset\n",
    "\n",
    "df2 = df.copy()\n",
    "\n",
    "# Getting the structure of the data\n",
    "\n",
    "df2.shape"
   ]
  },
  {
   "cell_type": "code",
   "execution_count": 43,
   "id": "d750bfff-49a8-4427-932c-091ee177b684",
   "metadata": {},
   "outputs": [],
   "source": [
    "# Dropping the columns that we may not need for this analysis\n",
    "\n",
    "df2.drop(columns=['ListingKey', 'ListingNumber', 'ListingCreationDate', 'CreditGrade', 'ClosedDate', 'BorrowerAPR',\n",
    "                 'EstimatedEffectiveYield', 'EstimatedLoss', 'EstimatedReturn', \n",
    "                 'ProsperRating (Alpha)', 'BorrowerState', 'Occupation', 'EmploymentStatusDuration', 'CurrentlyInGroup', \n",
    "                 'GroupKey', 'DateCreditPulled', 'FirstRecordedCreditLine', 'CurrentCreditLines', 'OpenCreditLines', \n",
    "                 'TotalCreditLinespast7years', 'OpenRevolvingMonthlyPayment', 'InquiriesLast6Months', 'TotalInquiries', \n",
    "                 'DelinquenciesLast7Years', 'PublicRecordsLast10Years', 'PublicRecordsLast12Months', 'RevolvingCreditBalance',\n",
    "                 'BankcardUtilization', 'AvailableBankcardCredit', 'TotalTrades', 'TradesNeverDelinquent (percentage)', 'TradesOpenedLast6Months',\n",
    "                'IncomeVerifiable', 'LoanKey', 'TotalProsperPaymentsBilled',\n",
    "                 'ProsperPaymentsLessThanOneMonthLate', 'ProsperPaymentsOneMonthPlusLate',\n",
    "                 'ProsperPrincipalBorrowed', 'ProsperPrincipalOutstanding', 'ScorexChangeAtTimeOfListing', \n",
    "                 'LoanFirstDefaultedCycleNumber', 'LoanMonthsSinceOrigination', 'LoanOriginationQuarter', 'MemberKey', \n",
    "                 'MonthlyLoanPayment', 'LP_CustomerPayments', 'LP_CustomerPrincipalPayments', 'LP_InterestandFees', \n",
    "                 'LP_ServiceFees', 'LP_CollectionFees', 'LP_GrossPrincipalLoss', 'LP_NetPrincipalLoss', \n",
    "                 'LP_NonPrincipalRecoverypayments', 'PercentFunded', 'Recommendations', 'InvestmentFromFriendsCount', \n",
    "                 'InvestmentFromFriendsAmount', 'Investors'], inplace=True)"
   ]
  },
  {
   "cell_type": "code",
   "execution_count": 44,
   "id": "1d77f2e4-1599-42f6-ba86-c4e0695a76a3",
   "metadata": {},
   "outputs": [
    {
     "name": "stdout",
     "output_type": "stream",
     "text": [
      "<class 'pandas.core.frame.DataFrame'>\n",
      "RangeIndex: 113937 entries, 0 to 113936\n",
      "Data columns (total 23 columns):\n",
      " #   Column                     Non-Null Count   Dtype  \n",
      "---  ------                     --------------   -----  \n",
      " 0   Term                       113937 non-null  int64  \n",
      " 1   LoanStatus                 113937 non-null  object \n",
      " 2   BorrowerRate               113937 non-null  float64\n",
      " 3   LenderYield                113937 non-null  float64\n",
      " 4   ProsperRating (numeric)    84853 non-null   float64\n",
      " 5   ProsperScore               84853 non-null   float64\n",
      " 6   ListingCategory (numeric)  113937 non-null  int64  \n",
      " 7   EmploymentStatus           111682 non-null  object \n",
      " 8   IsBorrowerHomeowner        113937 non-null  bool   \n",
      " 9   CreditScoreRangeLower      113346 non-null  float64\n",
      " 10  CreditScoreRangeUpper      113346 non-null  float64\n",
      " 11  OpenRevolvingAccounts      113937 non-null  int64  \n",
      " 12  CurrentDelinquencies       113240 non-null  float64\n",
      " 13  AmountDelinquent           106315 non-null  float64\n",
      " 14  DebtToIncomeRatio          105383 non-null  float64\n",
      " 15  IncomeRange                113937 non-null  object \n",
      " 16  StatedMonthlyIncome        113937 non-null  float64\n",
      " 17  TotalProsperLoans          22085 non-null   float64\n",
      " 18  OnTimeProsperPayments      22085 non-null   float64\n",
      " 19  LoanCurrentDaysDelinquent  113937 non-null  int64  \n",
      " 20  LoanNumber                 113937 non-null  int64  \n",
      " 21  LoanOriginalAmount         113937 non-null  int64  \n",
      " 22  LoanOriginationDate        113937 non-null  object \n",
      "dtypes: bool(1), float64(12), int64(6), object(4)\n",
      "memory usage: 19.2+ MB\n"
     ]
    }
   ],
   "source": [
    "# The following columns below are the columns kept for the analyis\n",
    "\n",
    "df2.info()"
   ]
  },
  {
   "cell_type": "code",
   "execution_count": 45,
   "id": "2b27dd87-7814-46f9-8795-667b8ad8ccd7",
   "metadata": {},
   "outputs": [],
   "source": [
    "# From the above step, you will observe a wrong datatype for LoanOriginateDate in column 22. We have to convert it from an object to a datetime datatype.\n",
    "\n",
    "\n",
    "df2.LoanOriginationDate = pd.to_datetime(df2.LoanOriginationDate)"
   ]
  },
  {
   "cell_type": "code",
   "execution_count": 46,
   "id": "676fda67-876a-4c44-b22e-7e5c1f0de290",
   "metadata": {},
   "outputs": [
    {
     "name": "stdout",
     "output_type": "stream",
     "text": [
      "<class 'pandas.core.frame.DataFrame'>\n",
      "RangeIndex: 113937 entries, 0 to 113936\n",
      "Data columns (total 23 columns):\n",
      " #   Column                     Non-Null Count   Dtype         \n",
      "---  ------                     --------------   -----         \n",
      " 0   Term                       113937 non-null  int64         \n",
      " 1   LoanStatus                 113937 non-null  object        \n",
      " 2   BorrowerRate               113937 non-null  float64       \n",
      " 3   LenderYield                113937 non-null  float64       \n",
      " 4   ProsperRating (numeric)    84853 non-null   float64       \n",
      " 5   ProsperScore               84853 non-null   float64       \n",
      " 6   ListingCategory (numeric)  113937 non-null  int64         \n",
      " 7   EmploymentStatus           111682 non-null  object        \n",
      " 8   IsBorrowerHomeowner        113937 non-null  bool          \n",
      " 9   CreditScoreRangeLower      113346 non-null  float64       \n",
      " 10  CreditScoreRangeUpper      113346 non-null  float64       \n",
      " 11  OpenRevolvingAccounts      113937 non-null  int64         \n",
      " 12  CurrentDelinquencies       113240 non-null  float64       \n",
      " 13  AmountDelinquent           106315 non-null  float64       \n",
      " 14  DebtToIncomeRatio          105383 non-null  float64       \n",
      " 15  IncomeRange                113937 non-null  object        \n",
      " 16  StatedMonthlyIncome        113937 non-null  float64       \n",
      " 17  TotalProsperLoans          22085 non-null   float64       \n",
      " 18  OnTimeProsperPayments      22085 non-null   float64       \n",
      " 19  LoanCurrentDaysDelinquent  113937 non-null  int64         \n",
      " 20  LoanNumber                 113937 non-null  int64         \n",
      " 21  LoanOriginalAmount         113937 non-null  int64         \n",
      " 22  LoanOriginationDate        113937 non-null  datetime64[ns]\n",
      "dtypes: bool(1), datetime64[ns](1), float64(12), int64(6), object(3)\n",
      "memory usage: 19.2+ MB\n"
     ]
    }
   ],
   "source": [
    "# checking to see the structure of the dataset after converting the datatype of LoanOriginationDate Column\n",
    "\n",
    "df2.info()"
   ]
  },
  {
   "cell_type": "code",
   "execution_count": 47,
   "id": "d1179658-b1f7-46bf-a514-a73bfb64fd6f",
   "metadata": {},
   "outputs": [
    {
     "data": {
      "text/plain": [
       "Current                   56576\n",
       "Completed                 38074\n",
       "Chargedoff                11992\n",
       "Defaulted                  5018\n",
       "Past Due (1-15 days)        806\n",
       "Past Due (31-60 days)       363\n",
       "Past Due (61-90 days)       313\n",
       "Past Due (91-120 days)      304\n",
       "Past Due (16-30 days)       265\n",
       "FinalPaymentInProgress      205\n",
       "Past Due (>120 days)         16\n",
       "Cancelled                     5\n",
       "Name: LoanStatus, dtype: int64"
      ]
     },
     "execution_count": 47,
     "metadata": {},
     "output_type": "execute_result"
    }
   ],
   "source": [
    "# Identifying some categorical data\n",
    "\n",
    "df2.LoanStatus.value_counts()"
   ]
  },
  {
   "cell_type": "code",
   "execution_count": 48,
   "id": "448c7ed0-c7ed-4499-a82e-c1ed6ce9c81a",
   "metadata": {},
   "outputs": [
    {
     "data": {
      "text/plain": [
       "$25,000-49,999    32192\n",
       "$50,000-74,999    31050\n",
       "$100,000+         17337\n",
       "$75,000-99,999    16916\n",
       "Not displayed      7741\n",
       "$1-24,999          7274\n",
       "Not employed        806\n",
       "$0                  621\n",
       "Name: IncomeRange, dtype: int64"
      ]
     },
     "execution_count": 48,
     "metadata": {},
     "output_type": "execute_result"
    }
   ],
   "source": [
    "df2.IncomeRange.value_counts()"
   ]
  },
  {
   "cell_type": "code",
   "execution_count": 49,
   "id": "a2611e2a-e325-4250-87dd-8cf0586f796a",
   "metadata": {},
   "outputs": [
    {
     "data": {
      "text/plain": [
       "1     58308\n",
       "0     16965\n",
       "7     10494\n",
       "2      7433\n",
       "3      7189\n",
       "6      2572\n",
       "4      2395\n",
       "13     1996\n",
       "15     1522\n",
       "18      885\n",
       "14      876\n",
       "20      771\n",
       "19      768\n",
       "5       756\n",
       "16      304\n",
       "11      217\n",
       "8       199\n",
       "10       91\n",
       "9        85\n",
       "12       59\n",
       "17       52\n",
       "Name: ListingCategory (numeric), dtype: int64"
      ]
     },
     "execution_count": 49,
     "metadata": {},
     "output_type": "execute_result"
    }
   ],
   "source": [
    "df2['ListingCategory (numeric)'].value_counts()"
   ]
  },
  {
   "cell_type": "code",
   "execution_count": 50,
   "id": "e691445f-0e8c-4568-ac62-f94a49337268",
   "metadata": {},
   "outputs": [
    {
     "data": {
      "text/plain": [
       "1     58308\n",
       "0     16965\n",
       "7     10494\n",
       "2      7433\n",
       "3      7189\n",
       "6      2572\n",
       "4      2395\n",
       "13     1996\n",
       "15     1522\n",
       "18      885\n",
       "14      876\n",
       "20      771\n",
       "19      768\n",
       "5       756\n",
       "16      304\n",
       "11      217\n",
       "8       199\n",
       "10       91\n",
       "9        85\n",
       "12       59\n",
       "17       52\n",
       "Name: ListingCategory (numeric), dtype: int64"
      ]
     },
     "execution_count": 50,
     "metadata": {},
     "output_type": "execute_result"
    }
   ],
   "source": [
    "#The Definition of the ListingCategory the borrower selected when posting their listing as shown on the website: \n",
    "\n",
    "#0 - Not Available, \n",
    "#1 - Debt Consolidation, \n",
    "#2 - Home Improvement, \n",
    "#3 - Business, \n",
    "#4 - Personal Loan, \n",
    "#5 - Student Use, \n",
    "#6 - Auto, \n",
    "#7- Other, \n",
    "#8 - Baby&Adoption, \n",
    "#9 - Boat, \n",
    "#10 - Cosmetic Procedure, \n",
    "#11 - Engagement Ring, \n",
    "#12 - Green Loans, \n",
    "#13 - Household Expenses, \n",
    "#14 - Large Purchases, \n",
    "#15 - Medical/Dental, \n",
    "#16 - Motorcycle, \n",
    "#17 - RV, \n",
    "#18 - Taxes, \n",
    "#19 - Vacation, \n",
    "#20 - Wedding Loans\n",
    "\n",
    "df2['ListingCategory (numeric)'].value_counts()\n"
   ]
  },
  {
   "cell_type": "code",
   "execution_count": 51,
   "id": "021a861c-e579-4791-9bc8-7f2bd0d6864f",
   "metadata": {},
   "outputs": [],
   "source": [
    "#Convert ListingCategory to categorical datatype.\n",
    "\n",
    "df2['ListingCategory (numeric)'] = df2['ListingCategory (numeric)'].astype(\"category\")"
   ]
  },
  {
   "cell_type": "code",
   "execution_count": 52,
   "id": "7627e6de-9b4e-4ff9-b6fe-568749b17713",
   "metadata": {},
   "outputs": [
    {
     "data": {
      "text/plain": [
       "Debt Consolidation    58308\n",
       "Not Available         16965\n",
       "Other                 10494\n",
       "Home Improvement       7433\n",
       "Business               7189\n",
       "Auto                   2572\n",
       "Personal Loan          2395\n",
       "Household Expenses     1996\n",
       "Medical/Dental         1522\n",
       "Taxes                   885\n",
       "Large Purchases         876\n",
       "Wedding Loans           771\n",
       "Vacation                768\n",
       "Student Use             756\n",
       "Motorcycle              304\n",
       "Engagement Ring         217\n",
       "Baby&Adoption           199\n",
       "Cosmetic Procedure       91\n",
       "Boat                     85\n",
       "Green Loans              59\n",
       "RV                       52\n",
       "Name: ListingCategory, dtype: int64"
      ]
     },
     "execution_count": 52,
     "metadata": {},
     "output_type": "execute_result"
    }
   ],
   "source": [
    "#Create dictionary to use in mapping a new column\n",
    "\n",
    "ListingCategoryVariables = {0: 'Not Available', 1: 'Debt Consolidation', 2: 'Home Improvement', 3: 'Business', 4: 'Personal Loan',\n",
    "                            5: 'Student Use', 6: 'Auto', 7: 'Other', 8: 'Baby&Adoption', 9: 'Boat', 10: 'Cosmetic Procedure', \n",
    "                            11: 'Engagement Ring', 12: 'Green Loans', 13: 'Household Expenses', 14: 'Large Purchases', \n",
    "                            15: 'Medical/Dental', 16: 'Motorcycle', 17: 'RV', 18: 'Taxes', 19: 'Vacation', 20: 'Wedding Loans'}\n",
    "\n",
    "#Create a new column that maps the value to the key in the dictionary above\n",
    "\n",
    "df2['ListingCategory'] = df2['ListingCategory (numeric)'].map(ListingCategoryVariables)\n",
    "df2.ListingCategory.value_counts()"
   ]
  },
  {
   "cell_type": "markdown",
   "id": "4668e95d-58d2-4152-971a-5292f9d9d0b5",
   "metadata": {},
   "source": [
    "## Univariant Exploration"
   ]
  },
  {
   "cell_type": "markdown",
   "id": "82627014-77bf-4301-973a-134810694aef",
   "metadata": {},
   "source": [
    "#### What are the Income Range and Employee Status?"
   ]
  },
  {
   "cell_type": "code",
   "execution_count": 53,
   "id": "7505f834-077c-4438-8026-2ca92d980dc8",
   "metadata": {},
   "outputs": [
    {
     "data": {
      "text/plain": [
       "['Self-employed',\n",
       " 'Employed',\n",
       " 'Not available',\n",
       " 'Full-time',\n",
       " 'Other',\n",
       " nan,\n",
       " 'Not employed',\n",
       " 'Part-time',\n",
       " 'Retired']"
      ]
     },
     "execution_count": 53,
     "metadata": {},
     "output_type": "execute_result"
    }
   ],
   "source": [
    "# Getting the list of unique values for IncomeRange and EmploymentStatus.\n",
    "\n",
    "unique_var  = list(df2[\"IncomeRange\"].unique())\n",
    "unique_var_2 = list(df2[\"EmploymentStatus\"].unique())\n",
    "\n",
    "unique_var\n",
    "unique_var_2"
   ]
  },
  {
   "cell_type": "code",
   "execution_count": 54,
   "id": "3839473a-5b0d-437d-a704-7f1b4311b574",
   "metadata": {},
   "outputs": [
    {
     "data": {
      "text/plain": [
       "Employed         67322\n",
       "Full-time        26355\n",
       "Self-employed     6134\n",
       "Not available     5347\n",
       "Other             3806\n",
       "Part-time         1088\n",
       "Not employed       835\n",
       "Retired            795\n",
       "Name: EmploymentStatus, dtype: int64"
      ]
     },
     "execution_count": 54,
     "metadata": {},
     "output_type": "execute_result"
    }
   ],
   "source": [
    "# This is a categorical variable\n",
    "\n",
    "df2[\"EmploymentStatus\"].value_counts() \n",
    "\n",
    "# Nominal and Ordinal Categorical Variable"
   ]
  },
  {
   "cell_type": "code",
   "execution_count": 55,
   "id": "5da7447c-362b-443b-a410-1ab9a150b4cd",
   "metadata": {},
   "outputs": [],
   "source": [
    "# Defining the color\n",
    "\n",
    "FaV_color = sb.color_palette()[-1]\n",
    "Fav_color_2 = sb.color_palette()[0]"
   ]
  },
  {
   "cell_type": "code",
   "execution_count": 56,
   "id": "34a797d5-5c9d-481f-b82b-589c12699024",
   "metadata": {},
   "outputs": [
    {
     "data": {
      "text/plain": [
       "Index(['$25,000-49,999', '$50,000-74,999', '$100,000+', '$75,000-99,999',\n",
       "       'Not displayed', '$1-24,999', 'Not employed', '$0'],\n",
       "      dtype='object')"
      ]
     },
     "execution_count": 56,
     "metadata": {},
     "output_type": "execute_result"
    }
   ],
   "source": [
    "#Defining the income range\n",
    "\n",
    "Income_range_val = df[\"IncomeRange\"].value_counts()\n",
    "Income_range_val_order =Income_range_val.index \n",
    "Income_range_val_order"
   ]
  },
  {
   "cell_type": "code",
   "execution_count": 57,
   "id": "80c2dc22-8b17-4d39-a32e-e2420c51e6ef",
   "metadata": {},
   "outputs": [
    {
     "data": {
      "image/png": "[encoded data removed]",
      "text/plain": [
       "<Figure size 864x360 with 1 Axes>"
      ]
     },
     "metadata": {
      "needs_background": "light"
     },
     "output_type": "display_data"
    }
   ],
   "source": [
    "plt.figure(figsize=[12, 5])\n",
    "base_color = sb.color_palette()[0]\n",
    "sb.countplot(data=df2, x='IncomeRange', color=base_color);\n",
    "plt.title('Income Ranges');"
   ]
  },
  {
   "cell_type": "markdown",
   "id": "3a20f5aa-d719-4a54-ae45-40a6184bbd3b",
   "metadata": {},
   "source": [
    "The plot of the ordered income ranges shows the highest concentration of incomes between 25,000 and 74,999"
   ]
  },
  {
   "cell_type": "code",
   "execution_count": 58,
   "id": "a8a5a169-6930-4bb5-8da5-c0d53642e506",
   "metadata": {},
   "outputs": [],
   "source": [
    "#Using Functions to plot the charts to avoid repeating codes\n",
    "\n",
    "def func_plot(data1,var1, var_2):\n",
    "    plt.figure(figsize= [20,5])\n",
    "    Income_range_val = df2[var_2].value_counts()\n",
    "    Income_range_val_order = Income_range_val.index \n",
    "    \n",
    "   \n",
    "    plt.subplot(1,2,1)\n",
    "    sb.countplot(data = df2 , x = var1, color= FaV_color)\n",
    "    plt.xticks(rotation = 90)\n",
    "    plt.title('Distribution of EmployeeStatus');\n",
    "    #plt.ylabel(\"the No of loans taken per \",var1);\n",
    "\n",
    "    plt.subplot(1,2,2)\n",
    "    sb.countplot(data = df2 , x = var_2 , color= Fav_color_2,order= Income_range_val_order)\n",
    "    plt.xticks(rotation = 90)\n",
    "    plt.title('Distrbution of Income Ranges');\n",
    "    #plt.ylabel(\"the No of loans taken per \", var_2);\n",
    "    "
   ]
  },
  {
   "cell_type": "code",
   "execution_count": 59,
   "id": "2775681a-1aa2-4097-b696-e77f89ad66e7",
   "metadata": {},
   "outputs": [
    {
     "data": {
      "image/png": "[encoded data removed]",
      "text/plain": [
       "<Figure size 1440x360 with 2 Axes>"
      ]
     },
     "metadata": {
      "needs_background": "light"
     },
     "output_type": "display_data"
    }
   ],
   "source": [
    "func_plot(df2,\"EmploymentStatus\", \"IncomeRange\")"
   ]
  },
  {
   "cell_type": "markdown",
   "id": "6d33dd55-effb-4229-ab2b-1456f2dfcbb0",
   "metadata": {},
   "source": [
    "### Observation:\n",
    "\n",
    "We have a high proportion people that are employed with more loans than every category of employment status, this shows that people that takes loan are majorly the employed ones"
   ]
  },
  {
   "cell_type": "markdown",
   "id": "10f3066d-a05c-4214-9abf-b7d391974882",
   "metadata": {},
   "source": [
    "### Plotting an Histogram"
   ]
  },
  {
   "cell_type": "markdown",
   "id": "97acbb34-6880-4dc2-a7e5-bcbfdb1dfda1",
   "metadata": {},
   "source": [
    "#### What is the distribution of people with valid ProsperScore?"
   ]
  },
  {
   "cell_type": "code",
   "execution_count": null,
   "id": "89de9f76-c926-4ad1-8515-1d0186864904",
   "metadata": {},
   "outputs": [],
   "source": [
    "# Checking for the minimum ProsperScore\n",
    "\n",
    "df2[\"ProsperScore\"].min(),2\n",
    "(11-1)//5"
   ]
  },
  {
   "cell_type": "code",
   "execution_count": null,
   "id": "e6ab13fa-f2c7-4b64-84f6-1422211218b3",
   "metadata": {},
   "outputs": [],
   "source": [
    "# The mean ProsperScore\n",
    "rat_mean = df2.ProsperScore.mean()\n",
    "rate_mean_r = round(rat_mean, 2)\n",
    "rate_mean_r"
   ]
  },
  {
   "cell_type": "code",
   "execution_count": null,
   "id": "22bf6c09-bec1-4724-a064-94de343cc670",
   "metadata": {},
   "outputs": [],
   "source": [
    "bins = np.arange(df2[\"ProsperScore\"].min(),df2[\"ProsperScore\"].max()+1.0, 1.0)\n",
    "plt.hist(data = df2, x = \"ProsperScore\", bins = bins)\n",
    "print('Mean ProsperScore:  {:5.95f}'.format(rate_mean_r))\n",
    "plt.xlabel('ProsperScore')\n",
    "plt.axvline(x=rate_mean_r, color='r')\n",
    "plt.title('Distribution of ProsperScore')"
   ]
  },
  {
   "cell_type": "markdown",
   "id": "937c38b1-faac-4e64-ae91-887736045710",
   "metadata": {},
   "source": [
    "The mean ProsperScore is 5.95"
   ]
  },
  {
   "cell_type": "code",
   "execution_count": null,
   "id": "d96048d5-887d-4093-a0f7-0d7fe3261579",
   "metadata": {},
   "outputs": [],
   "source": [
    "df2.hist(xlabelsize= 10,figsize= [20,10],xrot= 45)"
   ]
  },
  {
   "cell_type": "markdown",
   "id": "e2005040-b94e-410a-84df-7d765cffa536",
   "metadata": {},
   "source": [
    " ##### The majority of people have a valid score between 6 and 8."
   ]
  },
  {
   "cell_type": "code",
   "execution_count": null,
   "id": "178b6886-3279-4a3b-9bdf-e4c2df27e2fc",
   "metadata": {},
   "outputs": [],
   "source": [
    "# Correlation Analysis of the ProsperScore\n",
    "\n",
    "df2.corr()[\"ProsperScore\"].sort_values(ascending = False)"
   ]
  },
  {
   "cell_type": "code",
   "execution_count": null,
   "id": "e5bb2cc3-96e7-4b14-b77f-2b40791e1ae2",
   "metadata": {},
   "outputs": [],
   "source": [
    "# To get the mean borrower score\n",
    "\n",
    "rate_mean = df2.BorrowerRate.mean()\n",
    "print('Mean borrower interest rate:  {:0.2f}'.format(rate_mean))\n",
    "plt.figure(figsize=[12, 5])\n",
    "plt.hist(data = df2, x = 'BorrowerRate')\n",
    "plt.xlabel('Borrower Interest Rate')\n",
    "plt.axvline(x=rate_mean, color='r')\n",
    "plt.title('Distribution of Borrow Interest Rates')"
   ]
  },
  {
   "cell_type": "markdown",
   "id": "97bd5b32-2a31-4fad-9cf6-521dc2c5d66f",
   "metadata": {},
   "source": [
    "From the figure above, it shows that the distribution of borrower rates is right skewed, which means that more borrowers fell within the higher interest rate loans."
   ]
  },
  {
   "cell_type": "markdown",
   "id": "9f8a91be-30b4-42c6-94c9-70e33e93b7e9",
   "metadata": {},
   "source": [
    "#### What is the Loan Status Distribution?"
   ]
  },
  {
   "cell_type": "code",
   "execution_count": null,
   "id": "ed8002c3-564f-41b6-8405-c60f816bc8c8",
   "metadata": {},
   "outputs": [],
   "source": [
    "# Let's see the Loans status (completed or current)\n",
    "\n",
    "plt.figure(figsize=[12, 5])\n",
    "sb.countplot(data=df2, x='LoanStatus', color=base_color)\n",
    "plt.xticks(rotation=90)\n",
    "plt.title('Borrow Loan Status')"
   ]
  },
  {
   "cell_type": "markdown",
   "id": "408ebba1-d8f5-4959-ae1a-da04381e509d",
   "metadata": {},
   "source": [
    "From the figure above, we can see that majority of the loan is either completed or current"
   ]
  },
  {
   "cell_type": "markdown",
   "id": "104e54e7-f131-460d-ac5d-f9f1ab707cc3",
   "metadata": {},
   "source": [
    "### Quantitative (Numerical) vs Qualitative (Categorical) Variables"
   ]
  },
  {
   "cell_type": "markdown",
   "id": "e1c43771-a814-46b1-a309-245b875a2c59",
   "metadata": {},
   "source": [
    "Here, the visualizations depicts the data appropriately so that the plots are easily interpretable. I choose an appropriate plot type, data encodings, and formatting as needed, which may include setting/adding the title, labels, legend, and comments. Things I looked out for are overplotting or incorrectly plotting ordinal data.\n",
    "\n",
    "The relationship between Employment Status and ProperScore were explored using box and violin plot."
   ]
  },
  {
   "cell_type": "code",
   "execution_count": null,
   "id": "0c27d2fb-bbdc-4702-af21-614bd3d2f0f8",
   "metadata": {},
   "outputs": [],
   "source": [
    "def Func_plot2(datas, var1,var2):\n",
    "    plt.figure(figsize=[18,4])\n",
    "    plt.subplot(1,2,1)\n",
    "    sb.violinplot(data = df2 , x = var1, y =var2, color=Fav_color_2)\n",
    "    plt.title('ProsperScore against IncomeRange')\n",
    "    plt.xticks(rotation = 45)\n",
    "\n",
    "    plt.subplot(1,2,2)\n",
    "    sb.boxplot(data = df2 , x = var1, y =var2, color=Fav_color_2)\n",
    "    plt.title('ProsperScore against IncomeRange')\n",
    "    plt.xticks(rotation = 45)\n"
   ]
  },
  {
   "cell_type": "markdown",
   "id": "16735a6e-df45-4c9e-8c36-5ca1b1e332e3",
   "metadata": {},
   "source": [
    "#### What is the relationship between Employment Status and ProsoerScore?"
   ]
  },
  {
   "cell_type": "code",
   "execution_count": null,
   "id": "e868d4e6-7654-4941-91d5-310c750f57e2",
   "metadata": {},
   "outputs": [],
   "source": [
    "Func_plot2(df2,\"IncomeRange\", \"ProsperScore\")"
   ]
  },
  {
   "cell_type": "markdown",
   "id": "e82b6025-d6fb-4dbe-9556-5a6d64a096d7",
   "metadata": {
    "tags": []
   },
   "source": [
    "### Observation: \n",
    "\n",
    "Employed individuals often have higher appropriate score ratings than any other sort of employment status."
   ]
  },
  {
   "cell_type": "markdown",
   "id": "d98f5bc0-75df-43aa-8da7-e994c7f8978a",
   "metadata": {},
   "source": [
    "### What is correlation betwwen \"OnTimeProsperPayments\" and \"TotalProsperLoans\"?"
   ]
  },
  {
   "cell_type": "code",
   "execution_count": null,
   "id": "5a54b5cc-08b6-45f8-8837-067dc5d2fff6",
   "metadata": {},
   "outputs": [],
   "source": [
    "# Generates a random sample from a given 1-D array\n",
    "\n",
    "loc_index = np.random.choice(df.shape[0],2000)"
   ]
  },
  {
   "cell_type": "code",
   "execution_count": null,
   "id": "fe4917d8-5a67-4132-a0fb-83ffc456c577",
   "metadata": {},
   "outputs": [],
   "source": [
    "df3 = df2.loc[loc_index]"
   ]
  },
  {
   "cell_type": "code",
   "execution_count": null,
   "id": "82394bda-e032-4b5c-af57-4f95b6a18e1d",
   "metadata": {},
   "outputs": [],
   "source": [
    "df3_corr = df3.corr()"
   ]
  },
  {
   "cell_type": "code",
   "execution_count": null,
   "id": "e4785c4a-bec6-4250-b4e4-cffcc0850630",
   "metadata": {
    "tags": []
   },
   "outputs": [],
   "source": [
    "df3[\"OnTimeProsperPayments\"].corr(df3[\"TotalProsperLoans\"])"
   ]
  },
  {
   "cell_type": "markdown",
   "id": "c7b1d1a1-87e3-4d2c-b7c2-38958d40dda8",
   "metadata": {},
   "source": [
    "There is an averagrely strong correlation between \"OnTimeProsperPayments\"and \"TotalProsperLoans\"\n",
    "\n",
    "Indicator: \n",
    "\n",
    "- Between 0.7 --- 0.99 (strong correlation);\n",
    "- Beteen  0.4 --- 0.6 (averagely strong correlation);\n",
    "- Between 0.1 --- 0.39 (weak correlation);\n",
    "- < .1      ---      (not significant);"
   ]
  },
  {
   "cell_type": "code",
   "execution_count": null,
   "id": "a6c9caaf-ea22-4fdb-ba6f-02b8382a1b68",
   "metadata": {},
   "outputs": [],
   "source": [
    "sb.regplot(data = df3 , x = \"OnTimeProsperPayments\" , y = \"TotalProsperLoans\" )\n",
    "plt.title('TotalProsperScore against OnTimeProsperPayments');"
   ]
  },
  {
   "cell_type": "markdown",
   "id": "4238bc09-175f-45c4-b8eb-e77dd00409de",
   "metadata": {
    "jp-MarkdownHeadingCollapsed": true,
    "tags": []
   },
   "source": [
    "### Observation: \n",
    "\n",
    "There is a strong relationshp between Total prosperloans and onTimeProsperpayments"
   ]
  },
  {
   "cell_type": "markdown",
   "id": "a749f3b6-b90a-4470-9566-e099c9d325d9",
   "metadata": {},
   "source": [
    "## Bivariant Exploration"
   ]
  },
  {
   "cell_type": "markdown",
   "id": "4ef3233f-4704-4373-a851-31a69ad283cb",
   "metadata": {},
   "source": [
    "#### What is the relationship between \"OnTimeProsperPayments\" and \"TotalProsperLoans\"?"
   ]
  },
  {
   "cell_type": "code",
   "execution_count": null,
   "id": "3b59dc3a-65a8-4267-b691-9686f3533cd3",
   "metadata": {},
   "outputs": [],
   "source": [
    "plt.scatter(data = df3 ,  x = \"OnTimeProsperPayments\" , y = \"TotalProsperLoans\")\n",
    "plt.title('TotalProsperLoans against OnTimeProsperPayments')"
   ]
  },
  {
   "cell_type": "code",
   "execution_count": null,
   "id": "74c6248b-7a2c-46ce-8551-4cabfdd744da",
   "metadata": {},
   "outputs": [],
   "source": [
    "df3.corr()"
   ]
  },
  {
   "cell_type": "markdown",
   "id": "67199ccd-ac10-46f6-ad0f-b78260e3bd4e",
   "metadata": {},
   "source": [
    "#### What are the variables with the greatest impact on the borrower's interest?"
   ]
  },
  {
   "cell_type": "code",
   "execution_count": null,
   "id": "06ef382d-b6e7-4cb9-bc2d-6a99921dce7f",
   "metadata": {
    "tags": []
   },
   "outputs": [],
   "source": [
    "#Plotting Heatmap\n",
    "\n",
    "sb.heatmap(df3_corr, annot=True );"
   ]
  },
  {
   "cell_type": "markdown",
   "id": "20ce0d1e-bd54-4f2e-b0b6-32e3f9122f88",
   "metadata": {},
   "source": [
    "The correlation heat matrix helped to focus on the variables that had the biggest impact on the borrower's interest rate. Although there was little association between any of the variables, the credit score was the highest. The interest rate falls as the borrower's credit score rises"
   ]
  },
  {
   "cell_type": "code",
   "execution_count": null,
   "id": "1e021138-c68c-42b7-8682-63084cf836bc",
   "metadata": {},
   "outputs": [],
   "source": [
    "plt.scatter(data = df3 ,  x = \"OnTimeProsperPayments\" , y = \"TotalProsperLoans\")"
   ]
  },
  {
   "cell_type": "code",
   "execution_count": null,
   "id": "90b04b88-bac5-4cab-b357-8845263dee32",
   "metadata": {},
   "outputs": [],
   "source": [
    "# Using a function\n",
    "\n",
    "def plot_func(a, b):\n",
    "    plt.scatter(data = df3 ,  x = a , y = b)\n",
    "    "
   ]
  },
  {
   "cell_type": "code",
   "execution_count": null,
   "id": "8e6424e6-6d8c-4980-944d-6d42dc4fe195",
   "metadata": {},
   "outputs": [],
   "source": [
    "#Plotting TotalProsperLoans against OnTimeProsperPayments using a function\n",
    "\n",
    "plot_func(\"OnTimeProsperPayments\",\"TotalProsperLoans\")\n",
    "plt.title('TotalProsperLoans against OnTimeProsperPayments')"
   ]
  },
  {
   "cell_type": "code",
   "execution_count": null,
   "id": "b4cd8097-d4dc-4663-9b32-873ce781ef98",
   "metadata": {},
   "outputs": [],
   "source": [
    "# Listing all columns\n",
    "df3.columns"
   ]
  },
  {
   "cell_type": "markdown",
   "id": "999498bd-e5ba-45e3-8b8b-2ce3ada3ae9d",
   "metadata": {},
   "source": [
    "#### What is the Loan Status Distribution?"
   ]
  },
  {
   "cell_type": "code",
   "execution_count": null,
   "id": "732f0915-f0e0-46a6-94e7-44792008d9ef",
   "metadata": {
    "tags": []
   },
   "outputs": [],
   "source": [
    "# The distribution of loan status\n",
    "\n",
    "df3[\"LoanStatus\"].value_counts()"
   ]
  },
  {
   "cell_type": "code",
   "execution_count": null,
   "id": "1ad08aa9-3554-4d97-a04e-6ec6a25498b6",
   "metadata": {},
   "outputs": [],
   "source": [
    "#To get the mean of the Loan Status\n",
    "\n",
    "loan_category = df3.groupby(\"LoanStatus\")[\"ProsperRating (numeric)\"].mean().sort_values(ascending = False)\n",
    "loan_inex = loan_category.index"
   ]
  },
  {
   "cell_type": "code",
   "execution_count": null,
   "id": "a923648e-eef6-47c5-94d7-4fbb950e47dc",
   "metadata": {},
   "outputs": [],
   "source": [
    "# The different loan category\n",
    "\n",
    "loan_category"
   ]
  },
  {
   "cell_type": "code",
   "execution_count": null,
   "id": "6906c367-fd9a-4ef4-8e92-01613f3339db",
   "metadata": {},
   "outputs": [],
   "source": [
    "# Visualization with histogram\n",
    "\n",
    "plt.hist(df3[\"ProsperRating (numeric)\"])\n",
    "plt.title('Different Loan Category')"
   ]
  },
  {
   "cell_type": "code",
   "execution_count": null,
   "id": "dcb3d4f7-d2a1-4b71-8f00-f230d44c121b",
   "metadata": {},
   "outputs": [],
   "source": [
    "# Plotting with FacetGrid\n",
    "\n",
    "g = sb.FacetGrid(data = df3, col=\"LoanStatus\", col_order=loan_inex, col_wrap=5)\n",
    "g.map(plt.hist,\"ProsperRating (numeric)\")\n",
    "g.set_titles(\"{col_name}\")"
   ]
  },
  {
   "cell_type": "code",
   "execution_count": null,
   "id": "64fa99b5-ffec-42d9-9e37-d701adf5c28b",
   "metadata": {},
   "outputs": [],
   "source": [
    "# The rows of ProsperRating that is equal to 5\n",
    "\n",
    "df3[df3[\"ProsperRating (numeric)\"] == 5].shape[0]"
   ]
  },
  {
   "cell_type": "code",
   "execution_count": null,
   "id": "1949ea3e-2cdc-4c13-9844-37b37ae0b27a",
   "metadata": {},
   "outputs": [],
   "source": [
    "# The mean of the ProsperRating (numeric)\n",
    "\n",
    "mean_ = df3[\"ProsperRating (numeric)\"].mean()\n",
    "mean_"
   ]
  },
  {
   "cell_type": "code",
   "execution_count": null,
   "id": "97ba4986-cb36-437d-abce-b3e9735349ee",
   "metadata": {},
   "outputs": [],
   "source": [
    "# The number of ProsperRating that is less than the mean\n",
    "\n",
    "df3[df3[\"ProsperRating (numeric)\"] < mean_].shape[0]"
   ]
  },
  {
   "cell_type": "code",
   "execution_count": null,
   "id": "9b0ffbbb-9038-493c-8e3d-3e41f931e0c2",
   "metadata": {},
   "outputs": [],
   "source": [
    "#Here, I want to identify the ProsperRatung (numeric) that is equal to 5 and whose LoanStatus is \"FinalPaymentInProgress\"\n",
    "\n",
    "df3[(df3[\"ProsperRating (numeric)\"] == 5 ) & (df3[\"LoanStatus\"] == \"FinalPaymentInProgress\")].shape"
   ]
  },
  {
   "cell_type": "code",
   "execution_count": null,
   "id": "e3f32ac8-efb9-468d-b2c4-547ac55d74f7",
   "metadata": {},
   "outputs": [],
   "source": [
    "# The ProsperRating (numeric) that is lower than the mean and where the laon status is equal to the current loan status\n",
    "\n",
    "df3[(df3[\"ProsperRating (numeric)\"] > 4.528810 ) & (df3[\"LoanStatus\"] == \"Current\")].shape[0]"
   ]
  },
  {
   "cell_type": "code",
   "execution_count": null,
   "id": "ae1cf9d6-3200-4e9f-940c-abbfc394f5c8",
   "metadata": {},
   "outputs": [],
   "source": [
    "#Plotting  \"ProsperRating (numeric)\" against \"LoanStatus\" using a Violin Plot\n",
    "\n",
    "plt.figure(figsize= [20, 5])\n",
    "color_fav = sb.color_palette()[0]\n",
    "sb.violinplot(data = df3 , x = \"LoanStatus\" , y = \"ProsperRating (numeric)\",color = color_fav,order= loan_inex )\n",
    "plt.title('Plotting  \"ProsperRating (numeric)\" against \"LoanStatus\" using a Violin Plot', fontsize=20)\n",
    "plt.xticks(rotation = 90)"
   ]
  },
  {
   "cell_type": "code",
   "execution_count": null,
   "id": "9ce62bbe-097b-4f97-8b8f-122d01d639c6",
   "metadata": {},
   "outputs": [],
   "source": [
    "# loan_category"
   ]
  },
  {
   "cell_type": "code",
   "execution_count": null,
   "id": "e7e31a03-9b4c-493a-80d5-5a4b37b20ab2",
   "metadata": {},
   "outputs": [],
   "source": [
    "loan_cat = df3.groupby(\"LoanStatus\")[\"ProsperRating (numeric)\"].mean().sort_values(ascending = False)\n",
    "loan_cat"
   ]
  },
  {
   "cell_type": "code",
   "execution_count": null,
   "id": "c1f51c82-df89-4fd2-ad38-8d2165377c83",
   "metadata": {
    "tags": []
   },
   "outputs": [],
   "source": [
    "# Listing the columns\n",
    "\n",
    "df3.columns"
   ]
  },
  {
   "cell_type": "code",
   "execution_count": null,
   "id": "ac46c726-80a3-4283-9d9b-cd3c367bba8b",
   "metadata": {},
   "outputs": [],
   "source": [
    "# ProsperRating score per loan status\n",
    "\n",
    "loan_cats = df3.groupby(\"LoanStatus\")[\"ProsperScore\"].mean().sort_values(ascending = False)\n",
    "loan_cats"
   ]
  },
  {
   "cell_type": "code",
   "execution_count": null,
   "id": "c9c22fc0-33d9-4883-a432-77f9b5a82c86",
   "metadata": {},
   "outputs": [],
   "source": [
    "# Plotting \"ProsperRating (numeric)\" against LoanStatus using boxplot.\n",
    "\n",
    "plt.figure(figsize= [20, 5])\n",
    "sb.boxplot(data = df3 , x = \"LoanStatus\" , y = \"ProsperRating (numeric)\",color = color_fav, order=loan_inex)\n",
    "plt.title('Plotting \"ProsperRating (numeric)\" against LoanStatus using boxplot', fontsize=20)\n",
    "plt.xticks(rotation = 90)"
   ]
  },
  {
   "cell_type": "code",
   "execution_count": null,
   "id": "e7b36abb-d1c4-49be-867f-f088106008c2",
   "metadata": {},
   "outputs": [],
   "source": [
    "# Plotting \"ProsperRating (numeric)\" against LoanStatus using a Violin and boxplot.\n",
    "\n",
    "plt.figure(figsize= [20, 5])\n",
    "\n",
    "plt.subplot(1,2,1)\n",
    "color_fav = sb.color_palette()[0]\n",
    "sb.violinplot(data = df3 , x = \"LoanStatus\" , y = \"ProsperRating (numeric)\",color = color_fav,order= loan_inex )\n",
    "plt.title('Plotting \"ProsperRating (numeric)\" against LoanStatus using Violin Plot', fontsize=15)\n",
    "plt.xticks(rotation = 90);\n",
    "           \n",
    "\n",
    "#plt.figure(figsize= [20, 5])\n",
    "plt.subplot(1,2,2)\n",
    "sb.boxplot(data = df3 , x = \"LoanStatus\" , y = \"ProsperRating (numeric)\",color = color_fav, order=loan_inex)\n",
    "plt.title('Plotting \"ProsperRating (numeric)\" against LoanStatus using Box Plot', fontsize=15)\n",
    "plt.xticks(rotation = 90);\n",
    "           \n"
   ]
  },
  {
   "cell_type": "markdown",
   "id": "371dfa36-4483-413e-b28f-25405ea1cc3e",
   "metadata": {},
   "source": [
    "### Observation:\n",
    "\n",
    "The people with loan status  that are still current have a higher prosperscore than every other Loanstatus"
   ]
  },
  {
   "cell_type": "markdown",
   "id": "8bde050d-3b5f-4526-ba26-6bc92a02dbcc",
   "metadata": {},
   "source": [
    "## Multivariant Exploration"
   ]
  },
  {
   "cell_type": "markdown",
   "id": "dd82e663-bc1b-4099-82fc-5fb8c8bc918a",
   "metadata": {},
   "source": [
    "#### What is the correlation between Loan Status and Prosper Score?"
   ]
  },
  {
   "cell_type": "code",
   "execution_count": null,
   "id": "8436c278-fabd-4e06-9a44-62fae0fd486f",
   "metadata": {},
   "outputs": [],
   "source": [
    "# Correlation Analysis"
   ]
  },
  {
   "cell_type": "code",
   "execution_count": null,
   "id": "bdfd355f-1b2f-4dc8-b60a-3d0ddbdd3359",
   "metadata": {},
   "outputs": [],
   "source": [
    "df3_corr"
   ]
  },
  {
   "cell_type": "code",
   "execution_count": null,
   "id": "d17bdc83-e0ea-4d56-b904-87517b21d620",
   "metadata": {},
   "outputs": [],
   "source": [
    "# The relationship between \"ProsperRating (numeric)\" and the \"LoanStatus\", and \"lenderYield\" Respectively\n",
    "\n",
    "d = sb.FacetGrid(data = df3 , col= \"LoanStatus\" , col_wrap= 4 , col_order=loan_inex)\n",
    "d.map(sb.regplot, \"LenderYield\", \"ProsperRating (numeric)\")\n",
    "d.set_axis_labels(x_var=\"LenderYield\", y_var=\"ProsperRating (numeric)\")\n",
    "plt.suptitle(\"The Relationship between ProsperRating (numeric) and LoanStatus and LenderYield using FacetGrid\", y = 1.04)\n",
    "d.set_titles(\"{col_name}\")"
   ]
  },
  {
   "cell_type": "code",
   "execution_count": null,
   "id": "6b8ad08a-6b3f-4fc7-9ed3-5ad46cf068bd",
   "metadata": {},
   "outputs": [],
   "source": [
    "#Defining a function to show the relationship between \"ProsperRating (numeric)\" and the \"LoanStatus\", and \"lenderYield\" Respectively\n",
    "\n",
    "def facet_plot():\n",
    "    d = sb.FacetGrid(data = df3 , col= \"LoanStatus\" , col_wrap= 4 , col_order=loan_inex)\n",
    "    d.map(sb.regplot, \"LenderYield\", \"ProsperRating (numeric)\")\n",
    "    d.set_axis_labels(x_var=\"LoanStatus\", y_var=\"ProsperRating (numeric)\")\n",
    "    plt.suptitle(\"The Relationship between ProsperRating (numeric) and LoanStatus and LenderYield\", y = 1.04)\n",
    "    d.set_titles(\"{col_name}\");\n",
    "    \n",
    "facet_plot()"
   ]
  },
  {
   "cell_type": "markdown",
   "id": "20d9c90a-870c-4c11-9ed2-bebaada2e0ea",
   "metadata": {},
   "source": [
    "Observation: The relationship is no postive correlation between the variables"
   ]
  },
  {
   "cell_type": "markdown",
   "id": "502ca545-aba4-4952-bd80-c5027c7ef9d1",
   "metadata": {
    "tags": []
   },
   "source": [
    "## Key Findings\n",
    "\n",
    "- From this analysis we discovered that the factors that affect a loan's outcome was the amount of money borrowed and the interest rate of the loan.\n",
    "\n",
    "- The correlation heat matrix helped to focus on the variables that had the biggest impact on the borrower's interest rate. Although there was little association between any of the variables, the credit score was the highest. The interest rate falls as the borrower's credit score rises.\n",
    "\n",
    "- The average loan amount for the defaulted or past due dataset was less than the dataset as a whole, but it was interesting to note that the interest rate for those loans was 0.04 percent higher.\n",
    "\n",
    "- The amount borrowed and the loan's interest rate appeared to have the biggest effects on a loan's outcome. Loans with higher interest rates and greater values appear to be more prone to default. The biggest spread was found among employed people, which makes sense given that I believe employed people are more likely to apply for and be approved for loans.\n",
    "\n",
    "- The interest rate falls as the borrower's credit score rises. The interest rate represents the risk and therefore, the lower the risk, the lower the interest. There are a few cases when the loan size can also have an impact on the interest rate, although it's not as noticeable. "
   ]
  },
  {
   "cell_type": "markdown",
   "id": "a3a58476-2882-417b-b3e0-766287538b49",
   "metadata": {},
   "source": [
    "## Conclusions"
   ]
  },
  {
   "cell_type": "markdown",
   "id": "6acb90c5-0844-4db2-87ec-1ea8245f1327",
   "metadata": {
    "tags": []
   },
   "source": [
    "The amount borrowed and the loan's interest rate appeared to have the biggest effects on a loan's outcome. Loans with higher interest rates and higher values appear to be more prone to default. The statistics showed that employed people had the widest spread. After limiting the data to loans that were just past due or in default, the means of loan amount and borrower interest rate were compared. Below are some of the findings:\n",
    "\n",
    "- The average loan amount for the entire dataset is USD 8337.01.\n",
    "- For the entire dataset, the mean borrower interest rate was USD0.19.\n",
    "- For the dataset with solely defaulted or past-due loans, the mean borrower interest rate was USD0.23.\n",
    "\n",
    "The correlation heat matrix was used to identify the elements that had the biggest impact on the borrower's interest rate. None of the features showed a particularly strong association, but the credit score was the highest. The interest rate falls with a higher credit score for the borrower. The loan quantity does have some influence on the interest rate in a few other cases, but it's not as noticeable.\n",
    "\n",
    "The greatest loan amounts tend to be for debt consolidation and child adoption, and the more money people made, the bigger the loan appears to be."
   ]
  },
  {
   "cell_type": "markdown",
   "id": "933d4af4-5fb0-407b-9116-486e554268f7",
   "metadata": {},
   "source": [
    "### Reference\n",
    "\n",
    "- https://pandas.pydata.org/pandas-docs/version/0.23/generated/pandas.api.types.CategoricalDtype.html\n",
    "- https://www.geeksforgeeks.org/python-pandas-categoricaldtype/\n",
    "- https://numpy.org/doc/stable/reference/random/generated/numpy.random.choice.html\n",
    "- https://pandas.pydata.org/docs/"
   ]
  }
 ],
 "metadata": {
  "kernelspec": {
   "display_name": "Python 3 (ipykernel)",
   "language": "python",
   "name": "python3"
  },
  "language_info": {
   "codemirror_mode": {
    "name": "ipython",
    "version": 3
   },
   "file_extension": ".py",
   "mimetype": "text/x-python",
   "name": "python",
   "nbconvert_exporter": "python",
   "pygments_lexer": "ipython3",
   "version": "3.9.12"
  }
 },
 "nbformat": 4,
 "nbformat_minor": 5
}
